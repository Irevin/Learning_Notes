{
 "cells": [
  {
   "metadata": {},
   "cell_type": "markdown",
   "source": "Numpy is suitable for dealing with homogeneously typed numerical array data, Pandas for tabular or heterogeneous data.",
   "id": "9f8dadf851982f39"
  },
  {
   "metadata": {
    "ExecuteTime": {
     "end_time": "2025-02-23T14:05:38.805751Z",
     "start_time": "2025-02-23T14:05:38.345295Z"
    }
   },
   "cell_type": "code",
   "source": [
    "import numpy as np\n",
    "import pandas as pd"
   ],
   "id": "d9aa3e2cc46ced38",
   "outputs": [],
   "execution_count": 1
  },
  {
   "metadata": {},
   "cell_type": "markdown",
   "source": "# Series (values + index)",
   "id": "ed5e89cfa9087ad0"
  },
  {
   "metadata": {
    "ExecuteTime": {
     "end_time": "2025-02-23T14:05:46.209452Z",
     "start_time": "2025-02-23T14:05:46.202055Z"
    }
   },
   "cell_type": "code",
   "source": [
    "obj = pd.Series([4,7,-5,3])\n",
    "obj"
   ],
   "id": "35ced84612e939d2",
   "outputs": [
    {
     "data": {
      "text/plain": [
       "0    4\n",
       "1    7\n",
       "2   -5\n",
       "3    3\n",
       "dtype: int64"
      ]
     },
     "execution_count": 2,
     "metadata": {},
     "output_type": "execute_result"
    }
   ],
   "execution_count": 2
  },
  {
   "metadata": {
    "ExecuteTime": {
     "end_time": "2025-02-23T14:07:53.703539Z",
     "start_time": "2025-02-23T14:07:53.698427Z"
    }
   },
   "cell_type": "code",
   "source": "obj.array # Get data",
   "id": "29f91c577efb9db8",
   "outputs": [
    {
     "data": {
      "text/plain": [
       "<NumpyExtensionArray>\n",
       "[np.int64(4), np.int64(7), np.int64(-5), np.int64(3)]\n",
       "Length: 4, dtype: int64"
      ]
     },
     "execution_count": 3,
     "metadata": {},
     "output_type": "execute_result"
    }
   ],
   "execution_count": 3
  },
  {
   "metadata": {
    "ExecuteTime": {
     "end_time": "2025-02-23T14:08:08.559605Z",
     "start_time": "2025-02-23T14:08:08.555407Z"
    }
   },
   "cell_type": "code",
   "source": "obj.index # Get index",
   "id": "ab617356f6eea28d",
   "outputs": [
    {
     "data": {
      "text/plain": [
       "RangeIndex(start=0, stop=4, step=1)"
      ]
     },
     "execution_count": 4,
     "metadata": {},
     "output_type": "execute_result"
    }
   ],
   "execution_count": 4
  },
  {
   "metadata": {},
   "cell_type": "markdown",
   "source": "Usually, index consists of the integers from 0 through N-1 by default",
   "id": "eadf56f18f1a59dd"
  },
  {
   "metadata": {
    "ExecuteTime": {
     "end_time": "2025-02-23T14:13:44.687717Z",
     "start_time": "2025-02-23T14:13:44.683084Z"
    }
   },
   "cell_type": "code",
   "source": [
    "obj2 = pd.Series([4,7,-5,3],index = ['d','b','a','c']) # Change index \n",
    "obj2"
   ],
   "id": "e262996725af1260",
   "outputs": [
    {
     "data": {
      "text/plain": [
       "d    4\n",
       "b    7\n",
       "a   -5\n",
       "c    3\n",
       "dtype: int64"
      ]
     },
     "execution_count": 5,
     "metadata": {},
     "output_type": "execute_result"
    }
   ],
   "execution_count": 5
  },
  {
   "metadata": {
    "ExecuteTime": {
     "end_time": "2025-02-23T14:13:51.842003Z",
     "start_time": "2025-02-23T14:13:51.838209Z"
    }
   },
   "cell_type": "code",
   "source": "obj2.index",
   "id": "6a1e7e6adab5e9bf",
   "outputs": [
    {
     "data": {
      "text/plain": [
       "Index(['d', 'b', 'a', 'c'], dtype='object')"
      ]
     },
     "execution_count": 6,
     "metadata": {},
     "output_type": "execute_result"
    }
   ],
   "execution_count": 6
  },
  {
   "metadata": {},
   "cell_type": "markdown",
   "source": "You can use labels in the index when selecting **single values** or **a set of values**",
   "id": "ed27dc8d8efdfa41"
  },
  {
   "metadata": {
    "ExecuteTime": {
     "end_time": "2025-02-23T14:18:07.010315Z",
     "start_time": "2025-02-23T14:18:07.006547Z"
    }
   },
   "cell_type": "code",
   "source": "obj2[\"a\"]",
   "id": "f1a009d681147def",
   "outputs": [
    {
     "data": {
      "text/plain": [
       "np.int64(-5)"
      ]
     },
     "execution_count": 7,
     "metadata": {},
     "output_type": "execute_result"
    }
   ],
   "execution_count": 7
  },
  {
   "metadata": {
    "ExecuteTime": {
     "end_time": "2025-02-23T14:18:57.153183Z",
     "start_time": "2025-02-23T14:18:57.147081Z"
    }
   },
   "cell_type": "code",
   "source": [
    "obj2[\"d\"]=6\n",
    "obj2[[\"c\",\"a\",\"d\"]]"
   ],
   "id": "94d14fd9d29b3f3a",
   "outputs": [
    {
     "data": {
      "text/plain": [
       "c    3\n",
       "a   -5\n",
       "d    6\n",
       "dtype: int64"
      ]
     },
     "execution_count": 8,
     "metadata": {},
     "output_type": "execute_result"
    }
   ],
   "execution_count": 8
  },
  {
   "metadata": {
    "ExecuteTime": {
     "end_time": "2025-02-23T14:38:17.881906Z",
     "start_time": "2025-02-23T14:38:17.875898Z"
    }
   },
   "cell_type": "code",
   "source": "obj2[obj2>0] # Boolean array",
   "id": "c0ca7948136cf940",
   "outputs": [
    {
     "data": {
      "text/plain": [
       "d    6\n",
       "b    7\n",
       "c    3\n",
       "dtype: int64"
      ]
     },
     "execution_count": 9,
     "metadata": {},
     "output_type": "execute_result"
    }
   ],
   "execution_count": 9
  },
  {
   "metadata": {
    "ExecuteTime": {
     "end_time": "2025-02-23T14:38:36.767425Z",
     "start_time": "2025-02-23T14:38:36.762277Z"
    }
   },
   "cell_type": "code",
   "source": "obj2*2 # scalar function ",
   "id": "7fe09b58352a57c3",
   "outputs": [
    {
     "data": {
      "text/plain": [
       "d    12\n",
       "b    14\n",
       "a   -10\n",
       "c     6\n",
       "dtype: int64"
      ]
     },
     "execution_count": 10,
     "metadata": {},
     "output_type": "execute_result"
    }
   ],
   "execution_count": 10
  },
  {
   "metadata": {
    "ExecuteTime": {
     "end_time": "2025-02-23T14:39:34.852490Z",
     "start_time": "2025-02-23T14:39:34.847893Z"
    }
   },
   "cell_type": "code",
   "source": "np.exp(obj2)",
   "id": "5179d8e0d2c3e8e5",
   "outputs": [
    {
     "data": {
      "text/plain": [
       "d     403.428793\n",
       "b    1096.633158\n",
       "a       0.006738\n",
       "c      20.085537\n",
       "dtype: float64"
      ]
     },
     "execution_count": 11,
     "metadata": {},
     "output_type": "execute_result"
    }
   ],
   "execution_count": 11
  },
  {
   "metadata": {
    "ExecuteTime": {
     "end_time": "2025-02-23T14:42:13.979552Z",
     "start_time": "2025-02-23T14:42:13.974912Z"
    }
   },
   "cell_type": "code",
   "source": "\"b\" in obj2 # As dictionary \"mapping\"",
   "id": "1ed1dbb357685c0d",
   "outputs": [
    {
     "data": {
      "text/plain": [
       "True"
      ]
     },
     "execution_count": 13,
     "metadata": {},
     "output_type": "execute_result"
    }
   ],
   "execution_count": 13
  },
  {
   "metadata": {
    "ExecuteTime": {
     "end_time": "2025-02-23T14:42:16.665755Z",
     "start_time": "2025-02-23T14:42:16.660190Z"
    }
   },
   "cell_type": "code",
   "source": "\"e\" in obj2",
   "id": "91cd1cfba23e4460",
   "outputs": [
    {
     "data": {
      "text/plain": [
       "False"
      ]
     },
     "execution_count": 14,
     "metadata": {},
     "output_type": "execute_result"
    }
   ],
   "execution_count": 14
  },
  {
   "metadata": {
    "ExecuteTime": {
     "end_time": "2025-02-23T14:46:39.046024Z",
     "start_time": "2025-02-23T14:46:39.041726Z"
    }
   },
   "cell_type": "code",
   "source": [
    "sdata = {\"Ohio\": 35000,\"Texas\": 71000,\"Oregon\":16000,\"Utab\":5000}\n",
    "obj3 = pd.Series(sdata) # dictionary to Series\n",
    "obj3"
   ],
   "id": "d374ed7884a7f034",
   "outputs": [
    {
     "data": {
      "text/plain": [
       "Ohio      35000\n",
       "Texas     71000\n",
       "Oregon    16000\n",
       "Utab       5000\n",
       "dtype: int64"
      ]
     },
     "execution_count": 16,
     "metadata": {},
     "output_type": "execute_result"
    }
   ],
   "execution_count": 16
  },
  {
   "metadata": {
    "ExecuteTime": {
     "end_time": "2025-02-23T14:47:57.659593Z",
     "start_time": "2025-02-23T14:47:57.655091Z"
    }
   },
   "cell_type": "code",
   "source": "obj3.to_dict() # Series to dictionary ",
   "id": "6ea49b2a0f482065",
   "outputs": [
    {
     "data": {
      "text/plain": [
       "{'Ohio': 35000, 'Texas': 71000, 'Oregon': 16000, 'Utab': 5000}"
      ]
     },
     "execution_count": 17,
     "metadata": {},
     "output_type": "execute_result"
    }
   ],
   "execution_count": 17
  },
  {
   "metadata": {
    "ExecuteTime": {
     "end_time": "2025-02-23T14:54:36.356348Z",
     "start_time": "2025-02-23T14:54:36.349672Z"
    }
   },
   "cell_type": "code",
   "source": [
    "states = (\"California\", \"Ohio\", \"Oregon\", \"Texas\")\n",
    "obj4 = pd.Series(sdata,index = states)\n",
    "obj4"
   ],
   "id": "d398e6840ef2004e",
   "outputs": [
    {
     "data": {
      "text/plain": [
       "California        NaN\n",
       "Ohio          35000.0\n",
       "Oregon        16000.0\n",
       "Texas         71000.0\n",
       "dtype: float64"
      ]
     },
     "execution_count": 18,
     "metadata": {},
     "output_type": "execute_result"
    }
   ],
   "execution_count": 18
  },
  {
   "metadata": {
    "ExecuteTime": {
     "end_time": "2025-02-23T14:57:56.092969Z",
     "start_time": "2025-02-23T14:57:56.088272Z"
    }
   },
   "cell_type": "code",
   "source": "pd.isna(obj4) # Detect missing data",
   "id": "e17e461e4dc19cf9",
   "outputs": [
    {
     "data": {
      "text/plain": [
       "California     True\n",
       "Ohio          False\n",
       "Oregon        False\n",
       "Texas         False\n",
       "dtype: bool"
      ]
     },
     "execution_count": 19,
     "metadata": {},
     "output_type": "execute_result"
    }
   ],
   "execution_count": 19
  },
  {
   "metadata": {
    "ExecuteTime": {
     "end_time": "2025-02-23T14:58:14.480784Z",
     "start_time": "2025-02-23T14:58:14.476140Z"
    }
   },
   "cell_type": "code",
   "source": "pd.notna(obj4)",
   "id": "8bc9e4e1be50763f",
   "outputs": [
    {
     "data": {
      "text/plain": [
       "California    False\n",
       "Ohio           True\n",
       "Oregon         True\n",
       "Texas          True\n",
       "dtype: bool"
      ]
     },
     "execution_count": 20,
     "metadata": {},
     "output_type": "execute_result"
    }
   ],
   "execution_count": 20
  },
  {
   "metadata": {
    "ExecuteTime": {
     "end_time": "2025-02-23T14:58:32.041281Z",
     "start_time": "2025-02-23T14:58:32.036746Z"
    }
   },
   "cell_type": "code",
   "source": "obj4.isna()",
   "id": "89d5e17496b21ea",
   "outputs": [
    {
     "data": {
      "text/plain": [
       "California     True\n",
       "Ohio          False\n",
       "Oregon        False\n",
       "Texas         False\n",
       "dtype: bool"
      ]
     },
     "execution_count": 21,
     "metadata": {},
     "output_type": "execute_result"
    }
   ],
   "execution_count": 21
  },
  {
   "metadata": {},
   "cell_type": "markdown",
   "source": [
    "Series automatically **aligns by index**\n",
    "Key: 'obj3+obj4' gives NaN for Utah\n",
    "Reason: Utah is only in obj3, obj4 has no value(NaN)"
   ],
   "id": "1b602a2cd8329b5e"
  },
  {
   "metadata": {
    "ExecuteTime": {
     "end_time": "2025-02-23T15:06:07.330331Z",
     "start_time": "2025-02-23T15:06:07.324860Z"
    }
   },
   "cell_type": "code",
   "source": "obj3",
   "id": "6ab47abeb2d3d8d9",
   "outputs": [
    {
     "data": {
      "text/plain": [
       "Ohio      35000\n",
       "Texas     71000\n",
       "Oregon    16000\n",
       "Utab       5000\n",
       "dtype: int64"
      ]
     },
     "execution_count": 22,
     "metadata": {},
     "output_type": "execute_result"
    }
   ],
   "execution_count": 22
  },
  {
   "metadata": {
    "ExecuteTime": {
     "end_time": "2025-02-23T15:06:10.707160Z",
     "start_time": "2025-02-23T15:06:10.702159Z"
    }
   },
   "cell_type": "code",
   "source": "obj4",
   "id": "a8b98a3d41c62988",
   "outputs": [
    {
     "data": {
      "text/plain": [
       "California        NaN\n",
       "Ohio          35000.0\n",
       "Oregon        16000.0\n",
       "Texas         71000.0\n",
       "dtype: float64"
      ]
     },
     "execution_count": 23,
     "metadata": {},
     "output_type": "execute_result"
    }
   ],
   "execution_count": 23
  },
  {
   "metadata": {
    "ExecuteTime": {
     "end_time": "2025-02-23T15:06:15.400748Z",
     "start_time": "2025-02-23T15:06:15.396167Z"
    }
   },
   "cell_type": "code",
   "source": "obj3+obj4",
   "id": "b5e50cf4c098b639",
   "outputs": [
    {
     "data": {
      "text/plain": [
       "California         NaN\n",
       "Ohio           70000.0\n",
       "Oregon         32000.0\n",
       "Texas         142000.0\n",
       "Utab               NaN\n",
       "dtype: float64"
      ]
     },
     "execution_count": 24,
     "metadata": {},
     "output_type": "execute_result"
    }
   ],
   "execution_count": 24
  },
  {
   "metadata": {
    "ExecuteTime": {
     "end_time": "2025-02-23T15:09:13.235200Z",
     "start_time": "2025-02-23T15:09:13.230351Z"
    }
   },
   "cell_type": "code",
   "source": [
    "obj4.name = \"population\"\n",
    "obj4.index.name = \"state\"\n",
    "obj4"
   ],
   "id": "a3c548fb54c21415",
   "outputs": [
    {
     "data": {
      "text/plain": [
       "state\n",
       "California        NaN\n",
       "Ohio          35000.0\n",
       "Oregon        16000.0\n",
       "Texas         71000.0\n",
       "Name: population, dtype: float64"
      ]
     },
     "execution_count": 25,
     "metadata": {},
     "output_type": "execute_result"
    }
   ],
   "execution_count": 25
  },
  {
   "metadata": {},
   "cell_type": "markdown",
   "source": "Series's index can be altered in place by assignment",
   "id": "a655a03593ea13cd"
  },
  {
   "metadata": {
    "ExecuteTime": {
     "end_time": "2025-02-23T15:14:27.977859Z",
     "start_time": "2025-02-23T15:14:27.971721Z"
    }
   },
   "cell_type": "code",
   "source": "obj",
   "id": "9a6476cb7b9570e5",
   "outputs": [
    {
     "data": {
      "text/plain": [
       "0    4\n",
       "1    7\n",
       "2   -5\n",
       "3    3\n",
       "dtype: int64"
      ]
     },
     "execution_count": 26,
     "metadata": {},
     "output_type": "execute_result"
    }
   ],
   "execution_count": 26
  },
  {
   "metadata": {
    "ExecuteTime": {
     "end_time": "2025-02-23T15:15:26.061657Z",
     "start_time": "2025-02-23T15:15:26.057144Z"
    }
   },
   "cell_type": "code",
   "source": "obj.index = [\"Bob\",\"Steven\",\"Jeff\",\"Ryan\"]",
   "id": "fe56035cda6d3f76",
   "outputs": [],
   "execution_count": 29
  },
  {
   "metadata": {
    "ExecuteTime": {
     "end_time": "2025-02-23T15:15:29.634693Z",
     "start_time": "2025-02-23T15:15:29.629217Z"
    }
   },
   "cell_type": "code",
   "source": "obj",
   "id": "f41bd867b6f9dcb6",
   "outputs": [
    {
     "data": {
      "text/plain": [
       "Bob       4\n",
       "Steven    7\n",
       "Jeff     -5\n",
       "Ryan      3\n",
       "dtype: int64"
      ]
     },
     "execution_count": 30,
     "metadata": {},
     "output_type": "execute_result"
    }
   ],
   "execution_count": 30
  },
  {
   "metadata": {},
   "cell_type": "markdown",
   "source": "# DataFrame",
   "id": "7865def44ad88eb2"
  },
  {
   "metadata": {
    "ExecuteTime": {
     "end_time": "2025-02-23T15:19:20.182831Z",
     "start_time": "2025-02-23T15:19:20.178904Z"
    }
   },
   "cell_type": "code",
   "source": [
    "data = {\"state\": [\"Ohio\", \"Ohio\", \"Ohio\", \"Nevada\", \"Nevada\", \"Nevada\"],\n",
    "        \"year\": [2000, 2001, 2002, 2001, 2002, 2003],\n",
    "        \"pop\": [1.5, 1.7, 3.6, 2.4, 2.9, 3.2]}\n",
    "frame = pd.DataFrame(data)"
   ],
   "id": "1fdf5bbc35401085",
   "outputs": [],
   "execution_count": 32
  },
  {
   "metadata": {
    "ExecuteTime": {
     "end_time": "2025-02-23T15:19:24.946321Z",
     "start_time": "2025-02-23T15:19:24.938756Z"
    }
   },
   "cell_type": "code",
   "source": "frame",
   "id": "c52daa790b9b00bc",
   "outputs": [
    {
     "data": {
      "text/plain": [
       "    state  year  pop\n",
       "0    Ohio  2000  1.5\n",
       "1    Ohio  2001  1.7\n",
       "2    Ohio  2002  3.6\n",
       "3  Nevada  2001  2.4\n",
       "4  Nevada  2002  2.9\n",
       "5  Nevada  2003  3.2"
      ],
      "text/html": [
       "<div>\n",
       "<style scoped>\n",
       "    .dataframe tbody tr th:only-of-type {\n",
       "        vertical-align: middle;\n",
       "    }\n",
       "\n",
       "    .dataframe tbody tr th {\n",
       "        vertical-align: top;\n",
       "    }\n",
       "\n",
       "    .dataframe thead th {\n",
       "        text-align: right;\n",
       "    }\n",
       "</style>\n",
       "<table border=\"1\" class=\"dataframe\">\n",
       "  <thead>\n",
       "    <tr style=\"text-align: right;\">\n",
       "      <th></th>\n",
       "      <th>state</th>\n",
       "      <th>year</th>\n",
       "      <th>pop</th>\n",
       "    </tr>\n",
       "  </thead>\n",
       "  <tbody>\n",
       "    <tr>\n",
       "      <th>0</th>\n",
       "      <td>Ohio</td>\n",
       "      <td>2000</td>\n",
       "      <td>1.5</td>\n",
       "    </tr>\n",
       "    <tr>\n",
       "      <th>1</th>\n",
       "      <td>Ohio</td>\n",
       "      <td>2001</td>\n",
       "      <td>1.7</td>\n",
       "    </tr>\n",
       "    <tr>\n",
       "      <th>2</th>\n",
       "      <td>Ohio</td>\n",
       "      <td>2002</td>\n",
       "      <td>3.6</td>\n",
       "    </tr>\n",
       "    <tr>\n",
       "      <th>3</th>\n",
       "      <td>Nevada</td>\n",
       "      <td>2001</td>\n",
       "      <td>2.4</td>\n",
       "    </tr>\n",
       "    <tr>\n",
       "      <th>4</th>\n",
       "      <td>Nevada</td>\n",
       "      <td>2002</td>\n",
       "      <td>2.9</td>\n",
       "    </tr>\n",
       "    <tr>\n",
       "      <th>5</th>\n",
       "      <td>Nevada</td>\n",
       "      <td>2003</td>\n",
       "      <td>3.2</td>\n",
       "    </tr>\n",
       "  </tbody>\n",
       "</table>\n",
       "</div>"
      ]
     },
     "execution_count": 33,
     "metadata": {},
     "output_type": "execute_result"
    }
   ],
   "execution_count": 33
  },
  {
   "metadata": {
    "ExecuteTime": {
     "end_time": "2025-02-23T15:21:19.285745Z",
     "start_time": "2025-02-23T15:21:19.279271Z"
    }
   },
   "cell_type": "code",
   "source": "frame.head() # The first five rows",
   "id": "432bb24d5d6ee436",
   "outputs": [
    {
     "data": {
      "text/plain": [
       "    state  year  pop\n",
       "0    Ohio  2000  1.5\n",
       "1    Ohio  2001  1.7\n",
       "2    Ohio  2002  3.6\n",
       "3  Nevada  2001  2.4\n",
       "4  Nevada  2002  2.9"
      ],
      "text/html": [
       "<div>\n",
       "<style scoped>\n",
       "    .dataframe tbody tr th:only-of-type {\n",
       "        vertical-align: middle;\n",
       "    }\n",
       "\n",
       "    .dataframe tbody tr th {\n",
       "        vertical-align: top;\n",
       "    }\n",
       "\n",
       "    .dataframe thead th {\n",
       "        text-align: right;\n",
       "    }\n",
       "</style>\n",
       "<table border=\"1\" class=\"dataframe\">\n",
       "  <thead>\n",
       "    <tr style=\"text-align: right;\">\n",
       "      <th></th>\n",
       "      <th>state</th>\n",
       "      <th>year</th>\n",
       "      <th>pop</th>\n",
       "    </tr>\n",
       "  </thead>\n",
       "  <tbody>\n",
       "    <tr>\n",
       "      <th>0</th>\n",
       "      <td>Ohio</td>\n",
       "      <td>2000</td>\n",
       "      <td>1.5</td>\n",
       "    </tr>\n",
       "    <tr>\n",
       "      <th>1</th>\n",
       "      <td>Ohio</td>\n",
       "      <td>2001</td>\n",
       "      <td>1.7</td>\n",
       "    </tr>\n",
       "    <tr>\n",
       "      <th>2</th>\n",
       "      <td>Ohio</td>\n",
       "      <td>2002</td>\n",
       "      <td>3.6</td>\n",
       "    </tr>\n",
       "    <tr>\n",
       "      <th>3</th>\n",
       "      <td>Nevada</td>\n",
       "      <td>2001</td>\n",
       "      <td>2.4</td>\n",
       "    </tr>\n",
       "    <tr>\n",
       "      <th>4</th>\n",
       "      <td>Nevada</td>\n",
       "      <td>2002</td>\n",
       "      <td>2.9</td>\n",
       "    </tr>\n",
       "  </tbody>\n",
       "</table>\n",
       "</div>"
      ]
     },
     "execution_count": 34,
     "metadata": {},
     "output_type": "execute_result"
    }
   ],
   "execution_count": 34
  },
  {
   "metadata": {
    "ExecuteTime": {
     "end_time": "2025-02-23T15:21:48.919111Z",
     "start_time": "2025-02-23T15:21:48.912450Z"
    }
   },
   "cell_type": "code",
   "source": "frame.tail() # The last five rows",
   "id": "2c131587fc3597ef",
   "outputs": [
    {
     "data": {
      "text/plain": [
       "    state  year  pop\n",
       "1    Ohio  2001  1.7\n",
       "2    Ohio  2002  3.6\n",
       "3  Nevada  2001  2.4\n",
       "4  Nevada  2002  2.9\n",
       "5  Nevada  2003  3.2"
      ],
      "text/html": [
       "<div>\n",
       "<style scoped>\n",
       "    .dataframe tbody tr th:only-of-type {\n",
       "        vertical-align: middle;\n",
       "    }\n",
       "\n",
       "    .dataframe tbody tr th {\n",
       "        vertical-align: top;\n",
       "    }\n",
       "\n",
       "    .dataframe thead th {\n",
       "        text-align: right;\n",
       "    }\n",
       "</style>\n",
       "<table border=\"1\" class=\"dataframe\">\n",
       "  <thead>\n",
       "    <tr style=\"text-align: right;\">\n",
       "      <th></th>\n",
       "      <th>state</th>\n",
       "      <th>year</th>\n",
       "      <th>pop</th>\n",
       "    </tr>\n",
       "  </thead>\n",
       "  <tbody>\n",
       "    <tr>\n",
       "      <th>1</th>\n",
       "      <td>Ohio</td>\n",
       "      <td>2001</td>\n",
       "      <td>1.7</td>\n",
       "    </tr>\n",
       "    <tr>\n",
       "      <th>2</th>\n",
       "      <td>Ohio</td>\n",
       "      <td>2002</td>\n",
       "      <td>3.6</td>\n",
       "    </tr>\n",
       "    <tr>\n",
       "      <th>3</th>\n",
       "      <td>Nevada</td>\n",
       "      <td>2001</td>\n",
       "      <td>2.4</td>\n",
       "    </tr>\n",
       "    <tr>\n",
       "      <th>4</th>\n",
       "      <td>Nevada</td>\n",
       "      <td>2002</td>\n",
       "      <td>2.9</td>\n",
       "    </tr>\n",
       "    <tr>\n",
       "      <th>5</th>\n",
       "      <td>Nevada</td>\n",
       "      <td>2003</td>\n",
       "      <td>3.2</td>\n",
       "    </tr>\n",
       "  </tbody>\n",
       "</table>\n",
       "</div>"
      ]
     },
     "execution_count": 35,
     "metadata": {},
     "output_type": "execute_result"
    }
   ],
   "execution_count": 35
  },
  {
   "metadata": {
    "ExecuteTime": {
     "end_time": "2025-02-23T15:23:34.517370Z",
     "start_time": "2025-02-23T15:23:34.509715Z"
    }
   },
   "cell_type": "code",
   "source": "pd.DataFrame(data,columns=[\"year\",\"state\",\"pop\"])",
   "id": "1d8814bd88f5c356",
   "outputs": [
    {
     "data": {
      "text/plain": [
       "   year   state  pop\n",
       "0  2000    Ohio  1.5\n",
       "1  2001    Ohio  1.7\n",
       "2  2002    Ohio  3.6\n",
       "3  2001  Nevada  2.4\n",
       "4  2002  Nevada  2.9\n",
       "5  2003  Nevada  3.2"
      ],
      "text/html": [
       "<div>\n",
       "<style scoped>\n",
       "    .dataframe tbody tr th:only-of-type {\n",
       "        vertical-align: middle;\n",
       "    }\n",
       "\n",
       "    .dataframe tbody tr th {\n",
       "        vertical-align: top;\n",
       "    }\n",
       "\n",
       "    .dataframe thead th {\n",
       "        text-align: right;\n",
       "    }\n",
       "</style>\n",
       "<table border=\"1\" class=\"dataframe\">\n",
       "  <thead>\n",
       "    <tr style=\"text-align: right;\">\n",
       "      <th></th>\n",
       "      <th>year</th>\n",
       "      <th>state</th>\n",
       "      <th>pop</th>\n",
       "    </tr>\n",
       "  </thead>\n",
       "  <tbody>\n",
       "    <tr>\n",
       "      <th>0</th>\n",
       "      <td>2000</td>\n",
       "      <td>Ohio</td>\n",
       "      <td>1.5</td>\n",
       "    </tr>\n",
       "    <tr>\n",
       "      <th>1</th>\n",
       "      <td>2001</td>\n",
       "      <td>Ohio</td>\n",
       "      <td>1.7</td>\n",
       "    </tr>\n",
       "    <tr>\n",
       "      <th>2</th>\n",
       "      <td>2002</td>\n",
       "      <td>Ohio</td>\n",
       "      <td>3.6</td>\n",
       "    </tr>\n",
       "    <tr>\n",
       "      <th>3</th>\n",
       "      <td>2001</td>\n",
       "      <td>Nevada</td>\n",
       "      <td>2.4</td>\n",
       "    </tr>\n",
       "    <tr>\n",
       "      <th>4</th>\n",
       "      <td>2002</td>\n",
       "      <td>Nevada</td>\n",
       "      <td>2.9</td>\n",
       "    </tr>\n",
       "    <tr>\n",
       "      <th>5</th>\n",
       "      <td>2003</td>\n",
       "      <td>Nevada</td>\n",
       "      <td>3.2</td>\n",
       "    </tr>\n",
       "  </tbody>\n",
       "</table>\n",
       "</div>"
      ]
     },
     "execution_count": 36,
     "metadata": {},
     "output_type": "execute_result"
    }
   ],
   "execution_count": 36
  },
  {
   "metadata": {},
   "cell_type": "code",
   "outputs": [],
   "execution_count": null,
   "source": "",
   "id": "a0d6116c72b5476e"
  }
 ],
 "metadata": {
  "kernelspec": {
   "display_name": "Python 3",
   "language": "python",
   "name": "python3"
  },
  "language_info": {
   "codemirror_mode": {
    "name": "ipython",
    "version": 2
   },
   "file_extension": ".py",
   "mimetype": "text/x-python",
   "name": "python",
   "nbconvert_exporter": "python",
   "pygments_lexer": "ipython2",
   "version": "2.7.6"
  }
 },
 "nbformat": 4,
 "nbformat_minor": 5
}
