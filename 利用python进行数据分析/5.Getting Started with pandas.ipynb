{
 "cells": [
  {
   "metadata": {},
   "cell_type": "markdown",
   "source": "Numpy is suitable for dealing with homogeneously typed numerical array data, Pandas for tabular or heterogeneous data.",
   "id": "e48052555d28f78b"
  },
  {
   "metadata": {},
   "cell_type": "markdown",
   "source": "",
   "id": "dd01a82be652daad"
  },
  {
   "metadata": {},
   "cell_type": "code",
   "outputs": [],
   "execution_count": null,
   "source": [
    "import numpy as np\n",
    "import pandas as pd"
   ],
   "id": "678cd7f521b7157b"
  },
  {
   "metadata": {},
   "cell_type": "markdown",
   "source": "# Series (values + index)",
   "id": "541e5d82fc270399"
  },
  {
   "metadata": {},
   "cell_type": "code",
   "outputs": [],
   "execution_count": null,
   "source": [
    "obj = pd.Series([4, 7, -5, 3])\n",
    "obj"
   ],
   "id": "a738cca193882291"
  },
  {
   "metadata": {},
   "cell_type": "code",
   "outputs": [],
   "execution_count": null,
   "source": "obj.array  # Get data",
   "id": "8fec424546846170"
  },
  {
   "metadata": {},
   "cell_type": "code",
   "outputs": [],
   "execution_count": null,
   "source": "obj.index  # Get index",
   "id": "2f8dcdfa6ce6a7ff"
  },
  {
   "metadata": {},
   "cell_type": "markdown",
   "source": "Usually, index consists of the integers from 0 through N-1 by default",
   "id": "279aa122f1612c44"
  },
  {
   "metadata": {},
   "cell_type": "code",
   "outputs": [],
   "execution_count": null,
   "source": [
    "obj2 = pd.Series([4, 7, -5, 3], index=['d', 'b', 'a', 'c'])  # Change index \n",
    "obj2"
   ],
   "id": "637429a8985605f6"
  },
  {
   "metadata": {},
   "cell_type": "code",
   "outputs": [],
   "execution_count": null,
   "source": "obj2.index",
   "id": "9c80433bd52d5cd9"
  },
  {
   "metadata": {},
   "cell_type": "markdown",
   "source": "You can use labels in the index when selecting **single values** or **a set of values**",
   "id": "b44fc28a273e3bcf"
  },
  {
   "metadata": {},
   "cell_type": "code",
   "outputs": [],
   "execution_count": null,
   "source": "obj2[\"a\"]",
   "id": "37d915f5c25640c4"
  },
  {
   "metadata": {},
   "cell_type": "code",
   "outputs": [],
   "execution_count": null,
   "source": [
    "obj2[\"d\"] = 6\n",
    "obj2[[\"c\", \"a\", \"d\"]]"
   ],
   "id": "552f97c5ff5f962"
  },
  {
   "metadata": {},
   "cell_type": "code",
   "outputs": [],
   "execution_count": null,
   "source": "obj2[obj2 > 0]  # Boolean array",
   "id": "2c1111916bb507d6"
  },
  {
   "metadata": {},
   "cell_type": "code",
   "outputs": [],
   "execution_count": null,
   "source": "obj2 * 2  # scalar function ",
   "id": "6ea3878c4fdac4fd"
  },
  {
   "metadata": {},
   "cell_type": "code",
   "outputs": [],
   "execution_count": null,
   "source": "np.exp(obj2)",
   "id": "4bd911d47281e5e6"
  },
  {
   "metadata": {},
   "cell_type": "code",
   "outputs": [],
   "execution_count": null,
   "source": "\"b\" in obj2  # As dictionary \"mapping\"",
   "id": "c642e8e290ba6bff"
  },
  {
   "metadata": {},
   "cell_type": "code",
   "outputs": [],
   "execution_count": null,
   "source": "\"e\" in obj2",
   "id": "9a32119054d2e9ff"
  },
  {
   "metadata": {},
   "cell_type": "code",
   "outputs": [],
   "execution_count": null,
   "source": [
    "sdata = {\"Ohio\": 35000, \"Texas\": 71000, \"Oregon\": 16000, \"Utab\": 5000}\n",
    "obj3 = pd.Series(sdata)  # dictionary to Series\n",
    "obj3"
   ],
   "id": "863f8698230b7975"
  },
  {
   "metadata": {},
   "cell_type": "code",
   "outputs": [],
   "execution_count": null,
   "source": "obj3.to_dict()  # Series to dictionary ",
   "id": "4016bb225a991750"
  },
  {
   "metadata": {},
   "cell_type": "code",
   "outputs": [],
   "execution_count": null,
   "source": [
    "states = (\"California\", \"Ohio\", \"Oregon\", \"Texas\")\n",
    "obj4 = pd.Series(sdata, index=states)\n",
    "obj4"
   ],
   "id": "f893c1af9414f32a"
  },
  {
   "metadata": {},
   "cell_type": "code",
   "outputs": [],
   "execution_count": null,
   "source": "pd.isna(obj4)  # Detect missing data",
   "id": "b624abfb2882a1f"
  },
  {
   "metadata": {},
   "cell_type": "code",
   "outputs": [],
   "execution_count": null,
   "source": "pd.notna(obj4)",
   "id": "86f3ed9a20b33a2e"
  },
  {
   "metadata": {},
   "cell_type": "code",
   "outputs": [],
   "execution_count": null,
   "source": "obj4.isna()",
   "id": "c70cf96722efbe55"
  },
  {
   "metadata": {},
   "cell_type": "markdown",
   "source": [
    "Series automatically **aligns by index**\n",
    "Key: 'obj3+obj4' gives NaN for Utah\n",
    "Reason: Utah is only in obj3, obj4 has no value(NaN)"
   ],
   "id": "196fdb8f6c6762fc"
  },
  {
   "metadata": {},
   "cell_type": "code",
   "outputs": [],
   "execution_count": null,
   "source": "obj3",
   "id": "942ff32c465b8067"
  },
  {
   "metadata": {},
   "cell_type": "code",
   "outputs": [],
   "execution_count": null,
   "source": "obj4",
   "id": "6a096e8776a05d1"
  },
  {
   "metadata": {},
   "cell_type": "code",
   "outputs": [],
   "execution_count": null,
   "source": "obj3 + obj4",
   "id": "d7d8380fd5b9d30b"
  },
  {
   "metadata": {},
   "cell_type": "code",
   "outputs": [],
   "execution_count": null,
   "source": [
    "obj4.name = \"population\"\n",
    "obj4.index.name = \"state\"\n",
    "obj4"
   ],
   "id": "fd0c4c40f9b6a946"
  },
  {
   "metadata": {},
   "cell_type": "markdown",
   "source": "Series's index can be altered in place by assignment",
   "id": "4ffaf2cbe59731a6"
  },
  {
   "metadata": {},
   "cell_type": "code",
   "outputs": [],
   "execution_count": null,
   "source": "obj",
   "id": "5c3c6e1cc2aed94f"
  },
  {
   "metadata": {},
   "cell_type": "code",
   "outputs": [],
   "execution_count": null,
   "source": "obj.index = [\"Bob\", \"Steven\", \"Jeff\", \"Ryan\"]",
   "id": "c72aa39ceff4a6cc"
  },
  {
   "metadata": {},
   "cell_type": "code",
   "outputs": [],
   "execution_count": null,
   "source": "obj",
   "id": "48e09b8caa7d4e1"
  },
  {
   "metadata": {},
   "cell_type": "markdown",
   "source": "# DataFrame",
   "id": "3cca55e708be1bb5"
  },
  {
   "metadata": {},
   "cell_type": "code",
   "outputs": [],
   "execution_count": null,
   "source": [
    "data = {\"state\": [\"Ohio\", \"Ohio\", \"Ohio\", \"Nevada\", \"Nevada\", \"Nevada\"],\n",
    "        \"year\": [2000, 2001, 2002, 2001, 2002, 2003],\n",
    "        \"pop\": [1.5, 1.7, 3.6, 2.4, 2.9, 3.2]}\n",
    "frame = pd.DataFrame(data)"
   ],
   "id": "4bb5bb8013c40235"
  },
  {
   "metadata": {},
   "cell_type": "code",
   "outputs": [],
   "execution_count": null,
   "source": "frame",
   "id": "cae97c6c11a801e9"
  },
  {
   "metadata": {},
   "cell_type": "code",
   "outputs": [],
   "execution_count": null,
   "source": "frame.head()  # The first five rows",
   "id": "64c68ac0546b570a"
  },
  {
   "metadata": {},
   "cell_type": "code",
   "outputs": [],
   "execution_count": null,
   "source": "frame.tail()  # The last five rows",
   "id": "997fdb40e9c4e97b"
  },
  {
   "metadata": {},
   "cell_type": "code",
   "outputs": [],
   "execution_count": null,
   "source": "pd.DataFrame(data, columns=[\"year\", \"state\", \"pop\"])",
   "id": "d350c7f8a784fba5"
  },
  {
   "metadata": {},
   "cell_type": "code",
   "outputs": [],
   "execution_count": null,
   "source": [
    "frame2 = pd.DataFrame(data, columns=[\"year\", \"state\", \"pop\", \"debt\"])  # If column is not in frame,then it will be NaN\n",
    "frame2"
   ],
   "id": "ba66828603f4e6a5"
  },
  {
   "metadata": {},
   "cell_type": "code",
   "outputs": [],
   "execution_count": null,
   "source": "frame2.columns",
   "id": "cad4e6c968e17a76"
  },
  {
   "metadata": {},
   "cell_type": "code",
   "outputs": [],
   "execution_count": null,
   "source": "frame2[\"state\"]",
   "id": "cb72ebb008789167"
  },
  {
   "metadata": {},
   "cell_type": "code",
   "outputs": [],
   "execution_count": null,
   "source": "frame2.year",
   "id": "ee0c2c2d7f9bd197"
  },
  {
   "metadata": {},
   "cell_type": "markdown",
   "source": "Note:`frame2[column]`works for any column name,but `frame2.column`works only when the column name is valid variable name (default fetch column)",
   "id": "9303f8e0055a8821"
  },
  {
   "metadata": {},
   "cell_type": "code",
   "outputs": [],
   "execution_count": null,
   "source": "frame2.loc[2]",
   "id": "762a3db6dab13c69"
  },
  {
   "metadata": {},
   "cell_type": "code",
   "outputs": [],
   "execution_count": null,
   "source": "frame2.iloc[1]",
   "id": "32d7601bd8176627"
  },
  {
   "metadata": {},
   "cell_type": "code",
   "outputs": [],
   "execution_count": null,
   "source": [
    "frame2[\"debt\"] = 16.5\n",
    "frame2"
   ],
   "id": "303bb81a41db7360"
  },
  {
   "metadata": {},
   "cell_type": "code",
   "outputs": [],
   "execution_count": null,
   "source": [
    "frame2[\"debt\"] = np.arange(6.)\n",
    "frame2"
   ],
   "id": "1a19d36cbf82094c"
  },
  {
   "metadata": {},
   "cell_type": "code",
   "outputs": [],
   "execution_count": null,
   "source": [
    "val = pd.Series([-1.2, -1.5, -1.7], index=[2, 4, 5])\n",
    "frame2[\"debt\"] = val\n",
    "frame2"
   ],
   "id": "d9ad02c0fe4abb1a"
  },
  {
   "metadata": {},
   "cell_type": "code",
   "outputs": [],
   "execution_count": null,
   "source": [
    "frame2[\"eastern\"] = frame2[\"state\"] == \"Ohio\"\n",
    "frame2"
   ],
   "id": "fcd4acfcdcc3bbaa"
  },
  {
   "metadata": {},
   "cell_type": "code",
   "outputs": [],
   "execution_count": null,
   "source": [
    "del frame2[\"eastern\"]\n",
    "frame2.columns"
   ],
   "id": "57c8a9c1b55f002a"
  },
  {
   "metadata": {},
   "cell_type": "markdown",
   "source": "Nested dictionary",
   "id": "37eedbdf0030e4fe"
  },
  {
   "metadata": {},
   "cell_type": "code",
   "outputs": [],
   "execution_count": null,
   "source": [
    "populations = {\"Ohio\": {2000: 1.5, 2001: 1.7, 2002: 3.6},\n",
    "               \"Nevada\": {2001: 2.4, 2002: 2.9}}\n",
    "frame3 = pd.DataFrame(populations)\n",
    "frame3"
   ],
   "id": "57f2c81c4b3c61ab"
  },
  {
   "metadata": {},
   "cell_type": "code",
   "outputs": [],
   "execution_count": null,
   "source": "frame3.T",
   "id": "2014b067a90605e4"
  },
  {
   "metadata": {},
   "cell_type": "markdown",
   "source": "If you transpose twice, it changes the data type",
   "id": "1430462a4b544db7"
  },
  {
   "metadata": {},
   "cell_type": "code",
   "outputs": [],
   "execution_count": null,
   "source": "populations",
   "id": "98e53762bd9c6c5e"
  },
  {
   "metadata": {},
   "cell_type": "code",
   "outputs": [],
   "execution_count": null,
   "source": "pd.DataFrame(populations, index=[2001, 2002, 2003])  # Use index in the inner dictionary",
   "id": "e04788c5154736f4"
  },
  {
   "metadata": {},
   "cell_type": "code",
   "outputs": [],
   "execution_count": null,
   "source": "frame3",
   "id": "eaa033b68afe63f8"
  },
  {
   "metadata": {},
   "cell_type": "markdown",
   "source": "Slicing: [start:stop:step]",
   "id": "e3a4f5137055e07d"
  },
  {
   "metadata": {},
   "cell_type": "code",
   "outputs": [],
   "execution_count": null,
   "source": [
    "pdata = {\"Ohio\": frame3[\"Ohio\"][:-1], \"Nevada\": frame3[\"Nevada\"][:2]}\n",
    "pd.DataFrame(pdata)"
   ],
   "id": "c778242b1274f230"
  },
  {
   "metadata": {},
   "cell_type": "markdown",
   "source": "**DataFrame input**",
   "id": "6e7a07b143f70c96"
  },
  {
   "metadata": {},
   "cell_type": "code",
   "outputs": [],
   "execution_count": null,
   "source": [
    "# 1.2D ndarray\n",
    "data = np.array([[1, 2], [3, 4]])\n",
    "df1 = pd.DataFrame(data, index=[\"X\", \"Y\"], columns=[\"A\", \"B\"])\n",
    "df1"
   ],
   "id": "687b0ef5019f7c3d"
  },
  {
   "metadata": {},
   "cell_type": "code",
   "outputs": [],
   "execution_count": null,
   "source": [
    "# 2.Dictionary of arrays,lists or tuples\n",
    "data = {\"A\": [1, 2, 3], \"B\": [4, 5, 6]}\n",
    "df3 = pd.DataFrame(data)\n",
    "df3"
   ],
   "id": "3c7c4338d861294e"
  },
  {
   "metadata": {},
   "cell_type": "code",
   "outputs": [],
   "execution_count": null,
   "source": [
    "# 3. NumPy structured/record array\n",
    "data = np.array([(1, 'a'), (2, 'b')], dtype=[('num', 'i4'), ('letter', 'U1')])\n",
    "df4 = pd.DataFrame(data)\n",
    "df4"
   ],
   "id": "7f4ff8f861c2f0a0"
  },
  {
   "metadata": {},
   "cell_type": "code",
   "outputs": [],
   "execution_count": null,
   "source": [
    "# 4.Dictionary of Series\n",
    "s1 = pd.Series([1, 2], index=['a', 'b'])\n",
    "s2 = pd.Series([3, 4], index=['b', 'c'])\n",
    "df5 = pd.DataFrame({'A': s1, 'B': s2})\n",
    "df5"
   ],
   "id": "5c87004f7cf8428d"
  },
  {
   "metadata": {},
   "cell_type": "code",
   "outputs": [],
   "execution_count": null,
   "source": [
    "# 5.Dictionary of dictionaries\n",
    "data = {'Ohio': {2001: 1.7, 2002: 3.6}, 'Nevada': {2001: 2.4}}\n",
    "pd6 = pd.DataFrame(data)\n",
    "pd6"
   ],
   "id": "404df4e43270e87d"
  },
  {
   "metadata": {},
   "cell_type": "code",
   "outputs": [],
   "execution_count": null,
   "source": [
    "# 6.List of dictionaries or Series\n",
    "data = [{'A': 1, 'B': 2}, {'A': 3, 'B': 4}]\n",
    "df7 = pd.DataFrame(data)\n",
    "df7"
   ],
   "id": "38703695c055233c"
  },
  {
   "metadata": {},
   "cell_type": "code",
   "outputs": [],
   "execution_count": null,
   "source": [
    "# 7.List of  lists or tuples\n",
    "data = [[1, 2], [3, 4]]\n",
    "df8 = pd.DataFrame(data, columns=['A', 'B'])\n",
    "df8"
   ],
   "id": "8c9f5df5996aa62f"
  },
  {
   "metadata": {},
   "cell_type": "code",
   "outputs": [],
   "execution_count": null,
   "source": [
    "# 8.Another DataFrame\n",
    "df9_1 = pd.DataFrame({'A': [1, 2]})\n",
    "df9_2 = pd.DataFrame(df9_1)\n",
    "df9_2"
   ],
   "id": "8f0ff181f703768a"
  },
  {
   "metadata": {},
   "cell_type": "code",
   "outputs": [],
   "execution_count": null,
   "source": [
    "# 9.NumPy MaskedArray  \n",
    "# Mask part into NaN\n",
    "import numpy.ma as ma\n",
    "\n",
    "data = ma.array([[1, 2], [3, 4]], mask=[[0, 1], [0, 0]])\n",
    "df10 = pd.DataFrame(data)\n",
    "df10"
   ],
   "id": "3fc75e4462258020"
  },
  {
   "metadata": {},
   "cell_type": "markdown",
   "source": "DataFrame's index and columns",
   "id": "5a9bf36c789ba67f"
  },
  {
   "metadata": {},
   "cell_type": "code",
   "outputs": [],
   "execution_count": null,
   "source": "frame3",
   "id": "e6e8e3a575a861f2"
  },
  {
   "metadata": {},
   "cell_type": "code",
   "outputs": [],
   "execution_count": null,
   "source": [
    "frame3.index.name = \"year\"\n",
    "frame3.columns.name = \"state\"\n",
    "frame3"
   ],
   "id": "7cb6be21a4bf1d17"
  },
  {
   "metadata": {},
   "cell_type": "code",
   "outputs": [],
   "execution_count": null,
   "source": "frame3.to_numpy()",
   "id": "a01c405712344a5a"
  },
  {
   "metadata": {},
   "cell_type": "code",
   "outputs": [],
   "execution_count": null,
   "source": "frame2",
   "id": "ab785da4262fa0e7"
  },
  {
   "metadata": {},
   "cell_type": "code",
   "outputs": [],
   "execution_count": null,
   "source": "frame2.to_numpy()  # Returns a data type compatible with all columns",
   "id": "8dbf0e79126a0ddb"
  },
  {
   "metadata": {},
   "cell_type": "markdown",
   "source": "# Index Objects",
   "id": "dfbefafe03f1d47e"
  },
  {
   "metadata": {},
   "cell_type": "code",
   "outputs": [],
   "execution_count": null,
   "source": [
    "obj = pd.Series(np.arange(3), index=[\"a\", \"b\", \"c\"])\n",
    "index = obj.index\n",
    "index"
   ],
   "id": "1c40e762ad5a626f"
  },
  {
   "metadata": {},
   "cell_type": "code",
   "outputs": [],
   "execution_count": null,
   "source": "index[1:]",
   "id": "783d739a0b614924"
  },
  {
   "metadata": {},
   "cell_type": "code",
   "outputs": [],
   "execution_count": null,
   "source": "index[1] = \"d\"  # Index objects are immutable and thus can't be modified by the user",
   "id": "56f6b1a920c237f5"
  },
  {
   "metadata": {},
   "cell_type": "code",
   "outputs": [],
   "execution_count": null,
   "source": "frame3",
   "id": "129abd0b2e64687d"
  },
  {
   "metadata": {},
   "cell_type": "code",
   "outputs": [],
   "execution_count": null,
   "source": "frame3.columns",
   "id": "b2ae51a603074bab"
  },
  {
   "metadata": {},
   "cell_type": "code",
   "outputs": [],
   "execution_count": null,
   "source": "\"Ohio\" in frame3.columns",
   "id": "1e981d046639b777"
  },
  {
   "metadata": {},
   "cell_type": "code",
   "outputs": [],
   "execution_count": null,
   "source": "2003 in frame3.index",
   "id": "4824b7192665d07d"
  },
  {
   "metadata": {},
   "cell_type": "markdown",
   "source": "A pandas index can contain duplicate labels",
   "id": "75e6d9a28aedc3ed"
  },
  {
   "metadata": {},
   "cell_type": "code",
   "outputs": [],
   "execution_count": null,
   "source": "pd.Index([\"foo\", \"foo\", \"bar\", \"bar\"])",
   "id": "310040e93fa881b0"
  },
  {
   "metadata": {},
   "cell_type": "markdown",
   "source": "Selections with duplicate labels will select all occurrences of that label",
   "id": "6f6b56b43d5943bd"
  },
  {
   "metadata": {},
   "cell_type": "markdown",
   "source": [
    "Index Methods and Properties\n",
    "**append()**: Add another Index (e.g., [1, 2] + [3, 4] = [1, 2, 3, 4]).\n",
    "**difference()**: What’s in this but not that (e.g., [1, 2] - [2, 3] = [1]).\n",
    "**intersection()**: Common parts (e.g., [1, 2] & [2, 3] = [2]).\n",
    "**union()**: Combine all (e.g., [1, 2] | [2, 3] = [1, 2, 3]).\n",
    "**isin()**: Check if in list (e.g., [1, 2].isin([2]) = [False, True]).\n",
    "**drop()**: Remove value (e.g., drop 2 from [1, 2, 3] = [1, 3])."
   ],
   "id": "bb0fe914c4de7322"
  },
  {
   "metadata": {},
   "cell_type": "markdown",
   "source": "# Essential functionality",
   "id": "d510e0c0c425cdc1"
  },
  {
   "metadata": {},
   "cell_type": "code",
   "outputs": [],
   "execution_count": null,
   "source": [
    "obj = pd.Series([4.5, 7.2, -5.3, 3.6], index=[\"d\", \"b\", \"a\", \"c\"])\n",
    "obj"
   ],
   "id": "48238b5d3c617466"
  },
  {
   "metadata": {},
   "cell_type": "code",
   "outputs": [],
   "execution_count": null,
   "source": [
    "obj2 = obj.reindex([\"a\", \"b\", \"c\", \"d\", \"e\"])\n",
    "obj2"
   ],
   "id": "7705e50df271c217"
  },
  {
   "metadata": {},
   "cell_type": "code",
   "outputs": [],
   "execution_count": null,
   "source": [
    "obj3 = pd.Series([\"blue\", \"purple\", \"yellow\"], index=[0, 2, 4])\n",
    "obj3"
   ],
   "id": "3c6be90ceaa50a94"
  },
  {
   "metadata": {},
   "cell_type": "code",
   "outputs": [],
   "execution_count": null,
   "source": "obj3.reindex(np.arange(6), method='ffill')  # ffill:forward-fills the value",
   "id": "8745e02c6ca182fc"
  },
  {
   "metadata": {},
   "cell_type": "code",
   "outputs": [],
   "execution_count": null,
   "source": [
    "frame = pd.DataFrame(np.arange(9).reshape((3, 3)), index=[\"a\", \"c\", \"d\"], columns=[\"Ohio\", \"Texas\", \"California\"])\n",
    "frame"
   ],
   "id": "9a4584667ba58d2e"
  },
  {
   "metadata": {},
   "cell_type": "code",
   "outputs": [],
   "execution_count": null,
   "source": [
    "frame2 = frame.reindex(index=[\"a\", \"b\", \"c\", \"d\"])\n",
    "frame2"
   ],
   "id": "6d1021b0c5ad2a5"
  },
  {
   "metadata": {},
   "cell_type": "code",
   "outputs": [],
   "execution_count": null,
   "source": [
    "states = [\"Texas\", \"Utah\", \"California\"]\n",
    "frame.reindex(columns=states)"
   ],
   "id": "32b93b8f1dbd8f3f"
  },
  {
   "metadata": {},
   "cell_type": "code",
   "outputs": [],
   "execution_count": null,
   "source": "frame.reindex(states, axis=\"columns\")",
   "id": "6a7f67b317543612"
  },
  {
   "metadata": {},
   "cell_type": "markdown",
   "source": [
    "**labels/index**: New row labels (e.g., ['a', 'c']).\n",
    "**columns**: New column labels (e.g., ['A', 'B']).\n",
    "**method**: Fill missing (ffill=forward, bfill=backward).\n",
    "**fill_value**: What to fill (e.g., 0 instead of NaN)."
   ],
   "id": "7e290c974ee86e54"
  },
  {
   "metadata": {},
   "cell_type": "code",
   "outputs": [],
   "execution_count": null,
   "source": "frame",
   "id": "47629aa5645bad6c"
  },
  {
   "metadata": {},
   "cell_type": "code",
   "outputs": [],
   "execution_count": null,
   "source": "frame.loc[[\"a\", \"d\", \"c\"], [\"California\", \"Texas\"]]",
   "id": "b411da29e8826996"
  },
  {
   "metadata": {},
   "cell_type": "markdown",
   "source": "# Dropping Entries from an Axis",
   "id": "45335b84374c3223"
  },
  {
   "metadata": {},
   "cell_type": "code",
   "outputs": [],
   "execution_count": null,
   "source": [
    "obj = pd.Series(np.arange(5.), index=[\"a\", \"b\", \"c\", \"d\", \"e\"])\n",
    "obj"
   ],
   "id": "977306b5a4c2229d"
  },
  {
   "metadata": {},
   "cell_type": "code",
   "outputs": [],
   "execution_count": null,
   "source": [
    "new_obj = obj.drop(\"c\")\n",
    "new_obj"
   ],
   "id": "2973ebcdcb06d96b"
  },
  {
   "metadata": {},
   "cell_type": "code",
   "outputs": [],
   "execution_count": null,
   "source": [
    "data = pd.DataFrame(np.arange(16).reshape((4, 4)),\n",
    "                    index=[\"Ohio\", \"Colorado\", \"Utah\", \"New York\"],\n",
    "                    columns=[\"one\", \"two\", \"three\", \"four\"])"
   ],
   "id": "ad257d49b34b498"
  },
  {
   "metadata": {},
   "cell_type": "code",
   "outputs": [],
   "execution_count": null,
   "source": "data.drop(index=[\"Colorado\", \"Ohio\"])",
   "id": "54322e3d39f84771"
  },
  {
   "metadata": {},
   "cell_type": "code",
   "outputs": [],
   "execution_count": null,
   "source": "data.drop(columns=[\"two\"])",
   "id": "4b367d0bee769648"
  },
  {
   "metadata": {},
   "cell_type": "markdown",
   "source": "axis=1 equal axis=\"columns\"",
   "id": "ffb3dc19533fc3b0"
  },
  {
   "metadata": {},
   "cell_type": "code",
   "outputs": [],
   "execution_count": null,
   "source": "data.drop(\"two\", axis=1)",
   "id": "3a3adfeaebe7903b"
  },
  {
   "metadata": {},
   "cell_type": "code",
   "outputs": [],
   "execution_count": null,
   "source": "data.drop([\"two\", \"four\"], axis=\"columns\")",
   "id": "8c0115df7ea4b551"
  },
  {
   "metadata": {},
   "cell_type": "markdown",
   "source": "# Indexing,Selection,and Filtering",
   "id": "8361991fa65a0f8e"
  },
  {
   "metadata": {},
   "cell_type": "code",
   "outputs": [],
   "execution_count": null,
   "source": "obj.loc[[\"b\", \"a\", \"d\"]]",
   "id": "cf17502f1dc7aba0"
  },
  {
   "metadata": {},
   "cell_type": "markdown",
   "source": [
    "[]（方括号索引）\n",
    "行为：如果索引是整数，优先按标签取；如果索引是默认整数，则按位置取。\n",
    "\n",
    ".loc\n",
    "行为：永远按标签取，跟位置无关。\n",
    "\n",
    ".iloc\n",
    "行为：永远按位置取，跟标签无关。"
   ],
   "id": "9005b1ffee97ee04"
  },
  {
   "metadata": {},
   "cell_type": "code",
   "outputs": [],
   "execution_count": null,
   "source": [
    "obj1 = pd.Series([1, 2, 3], index=[2, 0, 1])\n",
    "obj2 = pd.Series([1, 2, 3], index=[\"a\", \"b\", \"c\"])"
   ],
   "id": "29891aef3a247bc1"
  },
  {
   "metadata": {},
   "cell_type": "code",
   "outputs": [],
   "execution_count": null,
   "source": "obj1",
   "id": "d5a2367ed3f9d89"
  },
  {
   "metadata": {},
   "cell_type": "code",
   "outputs": [],
   "execution_count": null,
   "source": "obj2",
   "id": "ba6533e87d7b555d"
  },
  {
   "metadata": {},
   "cell_type": "code",
   "outputs": [],
   "execution_count": null,
   "source": "obj1[[0, 1, 2]]",
   "id": "d1b4ea36ff17e24c"
  },
  {
   "metadata": {},
   "cell_type": "code",
   "outputs": [],
   "execution_count": null,
   "source": "obj2[[0, 1, 2]]",
   "id": "7235e75b03beec36"
  },
  {
   "metadata": {},
   "cell_type": "code",
   "outputs": [],
   "execution_count": null,
   "source": "obj2.loc[[0, 1]]",
   "id": "7932c6985335a71d"
  },
  {
   "metadata": {},
   "cell_type": "code",
   "outputs": [],
   "execution_count": null,
   "source": "obj1.iloc[[0, 1, 2]]",
   "id": "64a5a4d39e5efcc9"
  },
  {
   "metadata": {},
   "cell_type": "code",
   "outputs": [],
   "execution_count": null,
   "source": "obj2.iloc[[0, 1, 2]]",
   "id": "d672f97a2ec1273a"
  },
  {
   "metadata": {},
   "cell_type": "markdown",
   "source": "**Note**:You can also slice with labels, but it works differently from normal Python slicing in that the endpoint is **inclusive**",
   "id": "d8b659ea62e37950"
  },
  {
   "metadata": {},
   "cell_type": "code",
   "outputs": [],
   "execution_count": null,
   "source": "obj2.loc[\"b\":\"c\"]",
   "id": "45c096639c145da1"
  },
  {
   "metadata": {},
   "cell_type": "code",
   "outputs": [],
   "execution_count": null,
   "source": [
    "obj2.loc[\"b\":\"c\"] = 5\n",
    "obj2"
   ],
   "id": "25b3629822c50185"
  },
  {
   "metadata": {},
   "cell_type": "markdown",
   "source": [
    "用data[column_name]（传入列名）时，Pandas会返回对应的列。\n",
    "用data[start:stop]（切片语法）时，Pandas会按行（row）切片，返回指定范围的行。"
   ],
   "id": "20b80a31ae78c6b9"
  },
  {
   "metadata": {},
   "cell_type": "code",
   "outputs": [],
   "execution_count": null,
   "source": [
    "data = pd.DataFrame(np.arange(16).reshape((4, 4)),\n",
    "                    index=[\"Ohio\", \"Colorado\", \"Utah\", \"New York\"],\n",
    "                    columns=[\"one\", \"two\", \"three\", \"four\"])\n",
    "data"
   ],
   "id": "bef96eedfcd9b332"
  },
  {
   "metadata": {},
   "cell_type": "code",
   "outputs": [],
   "execution_count": null,
   "source": "data[\"two\"]",
   "id": "4afe78bc30acd94a"
  },
  {
   "metadata": {},
   "cell_type": "code",
   "outputs": [],
   "execution_count": null,
   "source": "data[[\"three\", \"one\"]]",
   "id": "c6e4d3e704f80e65"
  },
  {
   "metadata": {},
   "cell_type": "code",
   "outputs": [],
   "execution_count": null,
   "source": "data[:2]",
   "id": "640427b979a9456f"
  },
  {
   "metadata": {},
   "cell_type": "code",
   "outputs": [],
   "execution_count": null,
   "source": "data[data[\"three\"] > 5]",
   "id": "c8b2ed4e9c4269a3"
  },
  {
   "metadata": {},
   "cell_type": "code",
   "outputs": [],
   "execution_count": null,
   "source": "data < 5",
   "id": "2e4dcd6bf98c3045"
  },
  {
   "metadata": {},
   "cell_type": "code",
   "outputs": [],
   "execution_count": null,
   "source": [
    "data[data < 5] = 0\n",
    "data"
   ],
   "id": "f2aa04ca9cbaaf83"
  },
  {
   "metadata": {},
   "cell_type": "code",
   "outputs": [],
   "execution_count": null,
   "source": "data",
   "id": "6426d500122cbe9"
  },
  {
   "metadata": {},
   "cell_type": "code",
   "outputs": [],
   "execution_count": null,
   "source": "data.loc[\"Colorado\"]",
   "id": "6fa671092f7462a1"
  },
  {
   "metadata": {},
   "cell_type": "code",
   "outputs": [],
   "execution_count": null,
   "source": "data.loc[[\"Colorado\", \"New York\"]]",
   "id": "1d01d1c45d42f202"
  },
  {
   "metadata": {},
   "cell_type": "code",
   "outputs": [],
   "execution_count": null,
   "source": "data.loc[\"Colorado\", [\"two\", \"three\"]]",
   "id": "a500598382426d7a"
  },
  {
   "metadata": {},
   "cell_type": "code",
   "outputs": [],
   "execution_count": null,
   "source": "data",
   "id": "6888420a5fab688f"
  },
  {
   "metadata": {},
   "cell_type": "code",
   "outputs": [],
   "execution_count": null,
   "source": "data.iloc[2]",
   "id": "9c1898d7fa1c00d8"
  },
  {
   "metadata": {},
   "cell_type": "code",
   "outputs": [],
   "execution_count": null,
   "source": "data.iloc[[2, 1]]",
   "id": "63cda7ff997ac975"
  },
  {
   "metadata": {},
   "cell_type": "code",
   "outputs": [],
   "execution_count": null,
   "source": "data.iloc[2, [3, 0, 1]]",
   "id": "601d8d865479af9d"
  },
  {
   "metadata": {},
   "cell_type": "code",
   "outputs": [],
   "execution_count": null,
   "source": "data.iloc[[1, 2], [3, 0, 1]]",
   "id": "6ba6c2a74de55879"
  },
  {
   "metadata": {},
   "cell_type": "code",
   "outputs": [],
   "execution_count": null,
   "source": "data.loc[:\"Utah\", \"two\"]",
   "id": "471b9477800b7c1f"
  },
  {
   "metadata": {},
   "cell_type": "code",
   "outputs": [],
   "execution_count": null,
   "source": "data.iloc[:, :3][data.three > 5]",
   "id": "67adb2b6a90dcaf3"
  },
  {
   "metadata": {},
   "cell_type": "code",
   "outputs": [],
   "execution_count": null,
   "source": "data.loc[data.three >= 2]",
   "id": "29c173b88ae8a22d"
  },
  {
   "metadata": {},
   "cell_type": "code",
   "outputs": [],
   "execution_count": null,
   "source": "data",
   "id": "cc3843eb910062b5"
  },
  {
   "metadata": {},
   "cell_type": "code",
   "outputs": [],
   "execution_count": null,
   "source": "data.loc[\"one\", :] = 1",
   "id": "2ef62061dd02c395"
  },
  {
   "metadata": {},
   "cell_type": "code",
   "outputs": [],
   "execution_count": null,
   "source": "data",
   "id": "fb730616910a78f2"
  },
  {
   "metadata": {},
   "cell_type": "code",
   "outputs": [],
   "execution_count": null,
   "source": "data = data.iloc[:-1]",
   "id": "155277c720a34252"
  },
  {
   "metadata": {},
   "cell_type": "code",
   "outputs": [],
   "execution_count": null,
   "source": "data",
   "id": "3ad22dda94c98e85"
  },
  {
   "metadata": {},
   "cell_type": "markdown",
   "source": "**Note**: data.loc[data.three == 5][\"three\"]=6 get the copy of data.loc[data.three == 5] first, so it is not data.loc[data.three == 5, \"three\"]=6",
   "id": "3982e9edbde89d93"
  },
  {
   "metadata": {},
   "cell_type": "markdown",
   "source": "# Arithmetic and Data Alignment",
   "id": "7b8a80f6e9b463bc"
  },
  {
   "metadata": {},
   "cell_type": "code",
   "outputs": [],
   "execution_count": null,
   "source": [
    "s1 = pd.Series([7.3, -2.5, 3.4, 1.5], index=[\"a\", \"c\", \"d\", \"e\"])\n",
    "s2 = pd.Series([-2.1, 3.6, -1.5, 4, 3.1], index=[\"a\", \"c\", \"e\", \"f\", \"g\"])"
   ],
   "id": "11b28719ccb30eb9"
  },
  {
   "metadata": {},
   "cell_type": "code",
   "outputs": [],
   "execution_count": null,
   "source": "s1",
   "id": "21dfd2dfc6311cbe"
  },
  {
   "metadata": {},
   "cell_type": "code",
   "outputs": [],
   "execution_count": null,
   "source": "s2",
   "id": "64ed204e5dcab646"
  },
  {
   "metadata": {},
   "cell_type": "code",
   "outputs": [],
   "execution_count": null,
   "source": "s1 + s2",
   "id": "aba8aa1915c995ef"
  },
  {
   "metadata": {},
   "cell_type": "code",
   "outputs": [],
   "execution_count": null,
   "source": [
    "df1 = pd.DataFrame(np.arange(9.).reshape((3, 3)), columns=list(\"bcd\"), index=[\"Ohio\", \"Texas\", \"Colorado\"])\n",
    "df2 = pd.DataFrame(np.arange(12.).reshape((4, 3)), columns=list(\"bde\"), index=[\"Utah\", \"Ohio\", \"Texas\", \"Oregon\"])"
   ],
   "id": "eed6924cc90e3c"
  },
  {
   "metadata": {},
   "cell_type": "code",
   "outputs": [],
   "execution_count": null,
   "source": "df1",
   "id": "c891533220637933"
  },
  {
   "metadata": {},
   "cell_type": "code",
   "outputs": [],
   "execution_count": null,
   "source": "df2",
   "id": "d8f73462f87acdcf"
  },
  {
   "metadata": {},
   "cell_type": "code",
   "outputs": [],
   "execution_count": null,
   "source": "df1 + df2",
   "id": "b491a50dd0e69ce8"
  },
  {
   "metadata": {},
   "cell_type": "markdown",
   "source": "# Arithmetic methods with fill values",
   "id": "af6d8cebb940a970"
  },
  {
   "metadata": {},
   "cell_type": "code",
   "outputs": [],
   "execution_count": null,
   "source": [
    "df1 = pd.DataFrame(np.arange(12.).reshape((3, 4)), columns=list(\"abcd\"))\n",
    "df2 = pd.DataFrame(np.arange(20.).reshape((4, 5)), columns=list(\"abcde\"))\n",
    "df2.loc[1, \"b\"] = np.nan"
   ],
   "id": "a43c7b06005969a5"
  },
  {
   "metadata": {},
   "cell_type": "code",
   "outputs": [],
   "execution_count": null,
   "source": "df1",
   "id": "b43c70d663415261"
  },
  {
   "metadata": {},
   "cell_type": "code",
   "outputs": [],
   "execution_count": null,
   "source": "df2",
   "id": "d9074aa9c9e3c61c"
  },
  {
   "metadata": {},
   "cell_type": "code",
   "outputs": [],
   "execution_count": null,
   "source": "df1 + df2",
   "id": "a70b7c1751fcd4c4"
  },
  {
   "metadata": {},
   "cell_type": "code",
   "outputs": [],
   "execution_count": null,
   "source": "df1.add(df2, fill_value=0)",
   "id": "6c909a4f2c2e75d0"
  },
  {
   "metadata": {},
   "cell_type": "code",
   "outputs": [],
   "execution_count": null,
   "source": "1 / df1",
   "id": "e32442ccf4fe714b"
  },
  {
   "metadata": {},
   "cell_type": "code",
   "outputs": [],
   "execution_count": null,
   "source": "df1.rdiv(1)",
   "id": "21133966c1415d41"
  },
  {
   "metadata": {},
   "cell_type": "code",
   "outputs": [],
   "execution_count": null,
   "source": "df1.reindex(columns=df2.columns, fill_value=0)",
   "id": "f03a35528151b085"
  },
  {
   "metadata": {},
   "cell_type": "code",
   "outputs": [],
   "execution_count": null,
   "source": [
    "arr = np.arange(12.).reshape((3, 4))\n",
    "arr"
   ],
   "id": "9b9fea4159978ccf"
  },
  {
   "metadata": {},
   "cell_type": "code",
   "outputs": [],
   "execution_count": null,
   "source": "arr[0]",
   "id": "77423bb9ef45cc56"
  },
  {
   "metadata": {},
   "cell_type": "code",
   "outputs": [],
   "execution_count": null,
   "source": "arr - arr[0]",
   "id": "c1592992794f7d8b"
  },
  {
   "metadata": {},
   "cell_type": "code",
   "outputs": [],
   "execution_count": null,
   "source": [
    "frame = pd.DataFrame(np.arange(12.).reshape(4, 3), columns=list(\"bde\"), index=[\"Utah\", \"Ohio\", \"Texas\", \"Oregon\"])\n",
    "series = frame.iloc[0]"
   ],
   "id": "40428f06798124d"
  },
  {
   "metadata": {},
   "cell_type": "code",
   "outputs": [],
   "execution_count": null,
   "source": "frame",
   "id": "7eea12709d14ca6a"
  },
  {
   "metadata": {},
   "cell_type": "code",
   "outputs": [],
   "execution_count": null,
   "source": "series",
   "id": "25464baac05b2f39"
  },
  {
   "metadata": {},
   "cell_type": "code",
   "outputs": [],
   "execution_count": null,
   "source": "frame - series",
   "id": "84b5f8b44c823f32"
  },
  {
   "metadata": {},
   "cell_type": "code",
   "outputs": [],
   "execution_count": null,
   "source": [
    "series2 = pd.Series(np.arange(3), index=[\"b\", \"e\", \"f\"])\n",
    "series2"
   ],
   "id": "f78bf4f7526d9901"
  },
  {
   "metadata": {},
   "cell_type": "code",
   "outputs": [],
   "execution_count": null,
   "source": "frame + series2",
   "id": "3c0eb1144a0ee93d"
  },
  {
   "metadata": {},
   "cell_type": "markdown",
   "source": "当DataFrame和Series相加时，Pandas默认将Series的索引与DataFrame的列名（columns）对齐，而不是行索引（index）",
   "id": "9480836800483337"
  },
  {
   "metadata": {},
   "cell_type": "code",
   "outputs": [],
   "execution_count": null,
   "source": [
    "series3 = frame[\"d\"]\n",
    "frame"
   ],
   "id": "c49f50da1697f02f"
  },
  {
   "metadata": {},
   "cell_type": "code",
   "outputs": [],
   "execution_count": null,
   "source": "series3",
   "id": "6a5be57e1a628c08"
  },
  {
   "metadata": {},
   "cell_type": "code",
   "outputs": [],
   "execution_count": null,
   "source": "frame.sub(series3, axis=\"index\")",
   "id": "29f96b08fa1cac7f"
  },
  {
   "metadata": {},
   "cell_type": "markdown",
   "source": "# Function Application and Mapping",
   "id": "70e942de8c2735bb"
  },
  {
   "metadata": {},
   "cell_type": "code",
   "outputs": [],
   "execution_count": null,
   "source": [
    "frame = pd.DataFrame(np.random.standard_normal((4, 3)), columns=list(\"bde\"), index=[\"Utah\", \"Ohio\", \"Texas\", \"Oregon\"])\n",
    "frame"
   ],
   "id": "de9a9fe6a8ef90e8"
  },
  {
   "metadata": {},
   "cell_type": "code",
   "outputs": [],
   "execution_count": null,
   "source": "np.abs(frame)",
   "id": "84be3613710ce13d"
  },
  {
   "metadata": {},
   "cell_type": "code",
   "outputs": [],
   "execution_count": null,
   "source": [
    "def f1(x):\n",
    "    return x.max() - x.min()"
   ],
   "id": "f20adac237db0715"
  },
  {
   "metadata": {},
   "cell_type": "code",
   "outputs": [],
   "execution_count": null,
   "source": "frame.apply(f1)  # apply on every column ",
   "id": "821478842df59351"
  },
  {
   "metadata": {},
   "cell_type": "code",
   "outputs": [],
   "execution_count": null,
   "source": "frame.apply(f1, axis=\"columns\")",
   "id": "5ba146f90324e87d"
  },
  {
   "metadata": {},
   "cell_type": "code",
   "outputs": [],
   "execution_count": null,
   "source": [
    "def f2(x):\n",
    "    return pd.Series([x.min(), x.max()], index=[\"min\", \"max\"])"
   ],
   "id": "bfc8efc5b563d25b"
  },
  {
   "metadata": {},
   "cell_type": "code",
   "outputs": [],
   "execution_count": null,
   "source": "frame.apply(f2)",
   "id": "58cb480a18163e96"
  },
  {
   "metadata": {},
   "cell_type": "code",
   "outputs": [],
   "execution_count": null,
   "source": [
    "def my_format(x):\n",
    "    return f\"{x:.2f}\""
   ],
   "id": "bf7c1c1b4bca26ef"
  },
  {
   "metadata": {},
   "cell_type": "code",
   "outputs": [],
   "execution_count": null,
   "source": "frame",
   "id": "6ce399e094643c2a"
  },
  {
   "metadata": {},
   "cell_type": "code",
   "outputs": [],
   "execution_count": null,
   "source": "frame.applymap(my_format)",
   "id": "1644069bbcc4d216"
  },
  {
   "metadata": {},
   "cell_type": "code",
   "outputs": [],
   "execution_count": null,
   "source": "frame[\"e\"].map(my_format)",
   "id": "771d84134bb70f99"
  },
  {
   "metadata": {},
   "cell_type": "markdown",
   "source": "# Sortng and Ranking",
   "id": "895fdc9fbd357180"
  },
  {
   "metadata": {},
   "cell_type": "code",
   "outputs": [],
   "execution_count": null,
   "source": [
    "obj = pd.Series(np.arange(4), index=[\"d\", \"a\", \"b\", \"c\"])\n",
    "obj"
   ],
   "id": "270cc4675ee82e96"
  },
  {
   "metadata": {},
   "cell_type": "code",
   "outputs": [],
   "execution_count": null,
   "source": "obj.sort_index()",
   "id": "cc930a4ea03f0b09"
  },
  {
   "metadata": {},
   "cell_type": "code",
   "outputs": [],
   "execution_count": null,
   "source": [
    "frame = pd.DataFrame(np.arange(8).reshape((2, 4)),\n",
    "                     index=[\"three\", \"one\"],\n",
    "                     columns=[\"d\", \"a\", \"b\", \"c\"])"
   ],
   "id": "1a59f73c126e012c"
  },
  {
   "metadata": {},
   "cell_type": "code",
   "outputs": [],
   "execution_count": null,
   "source": "frame",
   "id": "84996b8443ed966b"
  },
  {
   "metadata": {},
   "cell_type": "code",
   "outputs": [],
   "execution_count": null,
   "source": "frame.sort_index()",
   "id": "bd9b80c249fcaa32"
  },
  {
   "metadata": {},
   "cell_type": "code",
   "outputs": [],
   "execution_count": null,
   "source": "frame.sort_index(axis=\"columns\")",
   "id": "ca210929250fb097"
  },
  {
   "metadata": {},
   "cell_type": "code",
   "outputs": [],
   "execution_count": null,
   "source": "frame.sort_index(axis=\"columns\", ascending=False)",
   "id": "6a69867bf5fafecd"
  },
  {
   "metadata": {},
   "cell_type": "code",
   "outputs": [],
   "execution_count": null,
   "source": [
    "obj = pd.Series([4, 7, -3, 2])\n",
    "obj.sort_values()"
   ],
   "id": "653386707b77030"
  },
  {
   "metadata": {},
   "cell_type": "code",
   "outputs": [],
   "execution_count": null,
   "source": [
    "obj = pd.Series([4, np.nan, 7, np.nan, -3, 2])\n",
    "obj.sort_values()"
   ],
   "id": "b449b1df5dcb0873"
  },
  {
   "metadata": {},
   "cell_type": "code",
   "outputs": [],
   "execution_count": null,
   "source": "obj.sort_values(na_position=\"first\")",
   "id": "9371614e4e8617ed"
  },
  {
   "metadata": {},
   "cell_type": "code",
   "outputs": [],
   "execution_count": null,
   "source": [
    "frame = pd.DataFrame({\"b\": [4, 7, -3, 2], \"a\": [0, 1, 0, 1]})\n",
    "frame"
   ],
   "id": "9a4684e53c409899"
  },
  {
   "metadata": {},
   "cell_type": "code",
   "outputs": [],
   "execution_count": null,
   "source": "frame.sort_values(\"b\")",
   "id": "54cb8d09c4b379b4"
  },
  {
   "metadata": {},
   "cell_type": "code",
   "outputs": [],
   "execution_count": null,
   "source": "frame.sort_values([\"a\", \"b\"])",
   "id": "e563637066feeee7"
  },
  {
   "metadata": {},
   "cell_type": "markdown",
   "source": [
    "rank是通过“为各组分配平均排名”的方式破坏平级关系的,\n",
    "eg:7出现两次，次序分别为6和7，取平均值就是6.5"
   ],
   "id": "fd4c444dde3a8b64"
  },
  {
   "metadata": {},
   "cell_type": "code",
   "outputs": [],
   "execution_count": null,
   "source": [
    "obj = pd.Series([7, -5, 7, 4, 2, 0, 4])\n",
    "obj.rank()"
   ],
   "id": "e15485712bc91d19"
  },
  {
   "metadata": {},
   "cell_type": "markdown",
   "source": "也可以根据值在原数据中出现的顺序给出排名",
   "id": "63e2ed2a7f097967"
  },
  {
   "metadata": {},
   "cell_type": "code",
   "outputs": [],
   "execution_count": null,
   "source": "obj.rank(method=\"first\")",
   "id": "e0b3684e830afa85"
  },
  {
   "metadata": {},
   "cell_type": "code",
   "outputs": [],
   "execution_count": null,
   "source": "obj.rank(ascending=False)",
   "id": "c4c6d5e8104b76cf"
  },
  {
   "metadata": {},
   "cell_type": "markdown",
   "source": "# Axis Indexes with Duplicate Labels",
   "id": "c727341335389f02"
  },
  {
   "metadata": {},
   "cell_type": "code",
   "outputs": [],
   "execution_count": null,
   "source": [
    "obj = pd.Series(np.arange(5), index=[\"a\", \"a\", \"b\", \"b\", \"c\"])\n",
    "obj"
   ],
   "id": "7b5578dec36638e1"
  },
  {
   "metadata": {},
   "cell_type": "code",
   "outputs": [],
   "execution_count": null,
   "source": "obj.index.is_unique",
   "id": "663df967a36d2810"
  },
  {
   "metadata": {},
   "cell_type": "code",
   "outputs": [],
   "execution_count": null,
   "source": "obj[\"a\"]",
   "id": "297c6a949c8f281a"
  },
  {
   "metadata": {},
   "cell_type": "markdown",
   "source": "# Summarizing and Computing Descriptive Statistics",
   "id": "1b542aed668fb682"
  },
  {
   "metadata": {},
   "cell_type": "code",
   "outputs": [],
   "execution_count": null,
   "source": "",
   "id": "29c8c9d43462cc73"
  },
  {
   "metadata": {},
   "cell_type": "code",
   "outputs": [],
   "execution_count": null,
   "source": [
    "df = pd.DataFrame([[1.4, np.nan], [7.1, -4.5],\n",
    "                   [np.nan, np.nan], [0.75, -1.3]],\n",
    "                  index=[\"a\", \"b\", \"c\", \"d\"],\n",
    "                  columns=[\"one\", \"two\"])\n",
    "df"
   ],
   "id": "8ddcd1c7c1933b13"
  },
  {
   "metadata": {},
   "cell_type": "code",
   "outputs": [],
   "execution_count": null,
   "source": "df.sum()",
   "id": "a8b67efe0b2726b6"
  },
  {
   "metadata": {},
   "cell_type": "code",
   "outputs": [],
   "execution_count": null,
   "source": "df.sum(axis=\"columns\")",
   "id": "a551d97ccb85366b"
  },
  {
   "metadata": {},
   "cell_type": "code",
   "outputs": [],
   "execution_count": null,
   "source": "df.sum(axis=\"index\",skipna=False)",
   "id": "97e68c287f7a9613"
  },
  {
   "metadata": {},
   "cell_type": "code",
   "outputs": [],
   "execution_count": null,
   "source": "df.sum(axis=\"columns\",skipna=False) ",
   "id": "d621d8832302bed3"
  },
  {
   "metadata": {},
   "cell_type": "code",
   "outputs": [],
   "execution_count": null,
   "source": "df.mean(axis=\"columns\")",
   "id": "7e999064c21fc20f"
  },
  {
   "metadata": {},
   "cell_type": "code",
   "outputs": [],
   "execution_count": null,
   "source": "df.idxmax()",
   "id": "3bf5ade5d53126c0"
  },
  {
   "metadata": {},
   "cell_type": "code",
   "outputs": [],
   "execution_count": null,
   "source": "df.cumsum()",
   "id": "6dfe36ff38374cae"
  },
  {
   "metadata": {},
   "cell_type": "code",
   "outputs": [],
   "execution_count": null,
   "source": "df.describe()",
   "id": "d7056b2381d21f0e"
  },
  {
   "metadata": {},
   "cell_type": "code",
   "outputs": [],
   "execution_count": null,
   "source": [
    "obj = pd.Series([\"a\",\"a\",\"b\",\"c\"]*4)\n",
    "obj.describe()"
   ],
   "id": "f0cc9028c2ed496c"
  },
  {
   "metadata": {},
   "cell_type": "markdown",
   "source": "# Unique Values,Value Counts,and Membership",
   "id": "23dc59f735c96b0a"
  },
  {
   "metadata": {},
   "cell_type": "code",
   "outputs": [],
   "execution_count": null,
   "source": "obj = pd.Series([\"c\",\"a\",\"d\",\"a\",\"a\",\"b\",\"b\",\"c\",\"c\"])",
   "id": "5c08d5d1676c5049"
  },
  {
   "metadata": {},
   "cell_type": "code",
   "outputs": [],
   "execution_count": null,
   "source": [
    "uniques = obj.unique()\n",
    "uniques"
   ],
   "id": "89d6005fdec12413"
  },
  {
   "metadata": {},
   "cell_type": "code",
   "outputs": [],
   "execution_count": null,
   "source": "uniques.sort()",
   "id": "5b24fe51d5e73505"
  },
  {
   "metadata": {},
   "cell_type": "code",
   "outputs": [],
   "execution_count": null,
   "source": "uniques",
   "id": "8d3f3a67ecb11ba0"
  },
  {
   "metadata": {},
   "cell_type": "code",
   "outputs": [],
   "execution_count": null,
   "source": "obj.value_counts()",
   "id": "237c4ac8b3a00b25"
  },
  {
   "metadata": {},
   "cell_type": "code",
   "outputs": [],
   "execution_count": null,
   "source": "pd.value_counts(obj.to_numpy(),sort=False)",
   "id": "253a8b6cbe1ed470"
  },
  {
   "metadata": {},
   "cell_type": "code",
   "outputs": [],
   "execution_count": null,
   "source": "obj",
   "id": "fedf45f8699da290"
  },
  {
   "metadata": {},
   "cell_type": "code",
   "outputs": [],
   "execution_count": null,
   "source": "mask=obj.isin([\"b\",\"c\"])",
   "id": "84f7e57d6bcedba1"
  },
  {
   "metadata": {},
   "cell_type": "code",
   "outputs": [],
   "execution_count": null,
   "source": "obj[mask]",
   "id": "16a97df2ab24008a"
  },
  {
   "metadata": {},
   "cell_type": "code",
   "outputs": [],
   "execution_count": null,
   "source": [
    "to_match = pd.Series([\"c\",\"a\",\"b\",\"b\",\"c\",\"a\"])\n",
    "unique_vals = pd.Series([\"c\",\"b\",\"a\"])\n",
    "indices = pd.Index(unique_vals).get_indexer(to_match)\n",
    "indices # 可用于预处理中编码转化成数字 "
   ],
   "id": "ef336a88f424bd91"
  },
  {
   "metadata": {},
   "cell_type": "code",
   "outputs": [],
   "execution_count": null,
   "source": [
    "data = pd.DataFrame({\"Qu1\":[1,3,4,3,4],\n",
    "                     \"Qu2\":[2,3,1,2,3],\n",
    "                     \"Qu3\":[1,5,2,4,4]})\n",
    "data"
   ],
   "id": "bae6676782afedad"
  },
  {
   "metadata": {},
   "cell_type": "code",
   "outputs": [],
   "execution_count": null,
   "source": "data[\"Qu1\"].value_counts().sort_index()",
   "id": "c13e2fdeb2679f26"
  },
  {
   "metadata": {},
   "cell_type": "code",
   "outputs": [],
   "execution_count": null,
   "source": [
    "data = pd.DataFrame({\"a\":[1,1,1,2,2],\"b\":[0,0,1,0,0]})\n",
    "data"
   ],
   "id": "6196a55b60963f41"
  },
  {
   "metadata": {},
   "cell_type": "code",
   "outputs": [],
   "execution_count": null,
   "source": "data.value_counts()",
   "id": "127e0787dc76d59b"
  },
  {
   "metadata": {},
   "cell_type": "markdown",
   "source": "Just finished learning the basics of Pandas. Compared to before, I’ve got a much clearer grasp of Series and DataFrame, and I’m more comfortable with the syntax and some of the tricky bits. Still, I’m a long way from using it like a pro. No rush though—keep going, you’ve got this!",
   "id": "ae80a7395d043863"
  },
  {
   "metadata": {},
   "cell_type": "code",
   "outputs": [],
   "execution_count": null,
   "source": "",
   "id": "d1b24c8e136f4cb3"
  }
 ],
 "metadata": {
  "kernelspec": {
   "display_name": "Python 3",
   "language": "python",
   "name": "python3"
  },
  "language_info": {
   "codemirror_mode": {
    "name": "ipython",
    "version": 2
   },
   "file_extension": ".py",
   "mimetype": "text/x-python",
   "name": "python",
   "nbconvert_exporter": "python",
   "pygments_lexer": "ipython2",
   "version": "2.7.6"
  }
 },
 "nbformat": 4,
 "nbformat_minor": 5
}
