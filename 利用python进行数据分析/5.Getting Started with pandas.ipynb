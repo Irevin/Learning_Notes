{
 "cells": [
  {
   "metadata": {},
   "cell_type": "raw",
   "source": [
    "﻿#%% md\n",
    "Numpy is suitable for dealing with homogeneously typed numerical array data, Pandas for tabular or heterogeneous data."
   ],
   "id": "ea44c02f09f14648"
  },
  {
   "metadata": {},
   "cell_type": "markdown",
   "source": "",
   "id": "9291d454b80e3e9f"
  },
  {
   "metadata": {},
   "cell_type": "code",
   "outputs": [],
   "execution_count": null,
   "source": [
    "import numpy as np\n",
    "import pandas as pd"
   ],
   "id": "67c5715a867020ce"
  },
  {
   "metadata": {},
   "cell_type": "markdown",
   "source": "# Series (values + index)",
   "id": "41fbdc6d0ff8f8ee"
  },
  {
   "metadata": {},
   "cell_type": "code",
   "outputs": [],
   "execution_count": null,
   "source": [
    "obj = pd.Series([4, 7, -5, 3])\n",
    "obj"
   ],
   "id": "d8bea08d8764ee19"
  },
  {
   "metadata": {},
   "cell_type": "code",
   "outputs": [],
   "execution_count": null,
   "source": "obj.array  # Get data",
   "id": "66d2a75ba92dd769"
  },
  {
   "metadata": {},
   "cell_type": "code",
   "outputs": [],
   "execution_count": null,
   "source": "obj.index  # Get index",
   "id": "f962c1508d0bb4af"
  },
  {
   "metadata": {},
   "cell_type": "markdown",
   "source": "Usually, index consists of the integers from 0 through N-1 by default",
   "id": "a9b64b10ff6e94c5"
  },
  {
   "metadata": {},
   "cell_type": "code",
   "outputs": [],
   "execution_count": null,
   "source": [
    "obj2 = pd.Series([4, 7, -5, 3], index=['d', 'b', 'a', 'c'])  # Change index \n",
    "obj2"
   ],
   "id": "4f683f4455d2e2b2"
  },
  {
   "metadata": {},
   "cell_type": "code",
   "outputs": [],
   "execution_count": null,
   "source": "obj2.index",
   "id": "3466c56240204c44"
  },
  {
   "metadata": {},
   "cell_type": "markdown",
   "source": "You can use labels in the index when selecting **single values** or **a set of values**",
   "id": "55b10764686f2923"
  },
  {
   "metadata": {},
   "cell_type": "code",
   "outputs": [],
   "execution_count": null,
   "source": "obj2[\"a\"]",
   "id": "b6214f6998ab66ff"
  },
  {
   "metadata": {},
   "cell_type": "code",
   "outputs": [],
   "execution_count": null,
   "source": [
    "obj2[\"d\"] = 6\n",
    "obj2[[\"c\", \"a\", \"d\"]]"
   ],
   "id": "a64e106dc474724d"
  },
  {
   "metadata": {},
   "cell_type": "code",
   "outputs": [],
   "execution_count": null,
   "source": "obj2[obj2 > 0]  # Boolean array",
   "id": "1e518454451f6664"
  },
  {
   "metadata": {},
   "cell_type": "code",
   "outputs": [],
   "execution_count": null,
   "source": "obj2 * 2  # scalar function ",
   "id": "43956b1116088fe5"
  },
  {
   "metadata": {},
   "cell_type": "code",
   "outputs": [],
   "execution_count": null,
   "source": "np.exp(obj2)",
   "id": "21928af8674777c6"
  },
  {
   "metadata": {},
   "cell_type": "code",
   "outputs": [],
   "execution_count": null,
   "source": "\"b\" in obj2  # As dictionary \"mapping\"",
   "id": "aff6fc1083190b76"
  },
  {
   "metadata": {},
   "cell_type": "code",
   "outputs": [],
   "execution_count": null,
   "source": "\"e\" in obj2",
   "id": "ccc4b37edb5deccc"
  },
  {
   "metadata": {},
   "cell_type": "code",
   "outputs": [],
   "execution_count": null,
   "source": [
    "sdata = {\"Ohio\": 35000, \"Texas\": 71000, \"Oregon\": 16000, \"Utab\": 5000}\n",
    "obj3 = pd.Series(sdata)  # dictionary to Series\n",
    "obj3"
   ],
   "id": "7076dfaa17ecc30e"
  },
  {
   "metadata": {},
   "cell_type": "code",
   "outputs": [],
   "execution_count": null,
   "source": "obj3.to_dict()  # Series to dictionary ",
   "id": "22b2d1e4af191282"
  },
  {
   "metadata": {},
   "cell_type": "code",
   "outputs": [],
   "execution_count": null,
   "source": [
    "states = (\"California\", \"Ohio\", \"Oregon\", \"Texas\")\n",
    "obj4 = pd.Series(sdata, index=states)\n",
    "obj4"
   ],
   "id": "495fb7675f1ba32f"
  },
  {
   "metadata": {},
   "cell_type": "code",
   "outputs": [],
   "execution_count": null,
   "source": "pd.isna(obj4)  # Detect missing data",
   "id": "995f18841e6f5d90"
  },
  {
   "metadata": {},
   "cell_type": "code",
   "outputs": [],
   "execution_count": null,
   "source": "pd.notna(obj4)",
   "id": "68581c13ed240ccc"
  },
  {
   "metadata": {},
   "cell_type": "code",
   "outputs": [],
   "execution_count": null,
   "source": "obj4.isna()",
   "id": "394428af0b73da0d"
  },
  {
   "metadata": {},
   "cell_type": "markdown",
   "source": [
    "Series automatically **aligns by index**\n",
    "Key: 'obj3+obj4' gives NaN for Utah\n",
    "Reason: Utah is only in obj3, obj4 has no value(NaN)"
   ],
   "id": "791c4f1260f6e915"
  },
  {
   "metadata": {},
   "cell_type": "code",
   "outputs": [],
   "execution_count": null,
   "source": "obj3",
   "id": "d0b383bbfd878f36"
  },
  {
   "metadata": {},
   "cell_type": "code",
   "outputs": [],
   "execution_count": null,
   "source": "obj4",
   "id": "867954f74355980b"
  },
  {
   "metadata": {},
   "cell_type": "code",
   "outputs": [],
   "execution_count": null,
   "source": "obj3 + obj4",
   "id": "9ff71f0963528af7"
  },
  {
   "metadata": {},
   "cell_type": "code",
   "outputs": [],
   "execution_count": null,
   "source": [
    "obj4.name = \"population\"\n",
    "obj4.index.name = \"state\"\n",
    "obj4"
   ],
   "id": "25e489f506172576"
  },
  {
   "metadata": {},
   "cell_type": "markdown",
   "source": "Series's index can be altered in place by assignment",
   "id": "a3a1e1129b87f5a4"
  },
  {
   "metadata": {},
   "cell_type": "code",
   "outputs": [],
   "execution_count": null,
   "source": "obj",
   "id": "1d4ce9d6e03ea3c4"
  },
  {
   "metadata": {},
   "cell_type": "code",
   "outputs": [],
   "execution_count": null,
   "source": "obj.index = [\"Bob\", \"Steven\", \"Jeff\", \"Ryan\"]",
   "id": "b542df7297ade26f"
  },
  {
   "metadata": {},
   "cell_type": "code",
   "outputs": [],
   "execution_count": null,
   "source": "obj",
   "id": "8094c032759b7926"
  },
  {
   "metadata": {},
   "cell_type": "markdown",
   "source": "# DataFrame",
   "id": "a0bb03155b94d515"
  },
  {
   "metadata": {},
   "cell_type": "code",
   "outputs": [],
   "execution_count": null,
   "source": [
    "data = {\"state\": [\"Ohio\", \"Ohio\", \"Ohio\", \"Nevada\", \"Nevada\", \"Nevada\"],\n",
    "        \"year\": [2000, 2001, 2002, 2001, 2002, 2003],\n",
    "        \"pop\": [1.5, 1.7, 3.6, 2.4, 2.9, 3.2]}\n",
    "frame = pd.DataFrame(data)"
   ],
   "id": "cf2ca43f3822233e"
  },
  {
   "metadata": {},
   "cell_type": "code",
   "outputs": [],
   "execution_count": null,
   "source": "frame",
   "id": "f97c79dea2005eb8"
  },
  {
   "metadata": {},
   "cell_type": "code",
   "outputs": [],
   "execution_count": null,
   "source": "frame.head()  # The first five rows",
   "id": "4d895fbf83c08448"
  },
  {
   "metadata": {},
   "cell_type": "code",
   "outputs": [],
   "execution_count": null,
   "source": "frame.tail()  # The last five rows",
   "id": "e07d9b0a2f3508dc"
  },
  {
   "metadata": {},
   "cell_type": "code",
   "outputs": [],
   "execution_count": null,
   "source": "pd.DataFrame(data, columns=[\"year\", \"state\", \"pop\"])",
   "id": "700e9c62b6684de"
  },
  {
   "metadata": {},
   "cell_type": "code",
   "outputs": [],
   "execution_count": null,
   "source": [
    "frame2 = pd.DataFrame(data, columns=[\"year\", \"state\", \"pop\", \"debt\"])  # If column is not in frame,then it will be NaN\n",
    "frame2"
   ],
   "id": "763359e09b93b29a"
  },
  {
   "metadata": {},
   "cell_type": "code",
   "outputs": [],
   "execution_count": null,
   "source": "frame2.columns",
   "id": "34cbac9b54f6e11c"
  },
  {
   "metadata": {},
   "cell_type": "code",
   "outputs": [],
   "execution_count": null,
   "source": "frame2[\"state\"]",
   "id": "2e32bc6feebd08cf"
  },
  {
   "metadata": {},
   "cell_type": "code",
   "outputs": [],
   "execution_count": null,
   "source": "frame2.year",
   "id": "faba758ad6dccd54"
  },
  {
   "metadata": {},
   "cell_type": "markdown",
   "source": "Note:`frame2[column]`works for any column name,but `frame2.column`works only when the column name is valid variable name (default fetch column)",
   "id": "3a194c8940368eab"
  },
  {
   "metadata": {},
   "cell_type": "code",
   "outputs": [],
   "execution_count": null,
   "source": "frame2.loc[2]",
   "id": "1b24e7846f3d098c"
  },
  {
   "metadata": {},
   "cell_type": "code",
   "outputs": [],
   "execution_count": null,
   "source": "frame2.iloc[1]",
   "id": "2e9f03dabc5ad60b"
  },
  {
   "metadata": {},
   "cell_type": "code",
   "outputs": [],
   "execution_count": null,
   "source": [
    "frame2[\"debt\"] = 16.5\n",
    "frame2"
   ],
   "id": "2dd8f44fc4f64ddf"
  },
  {
   "metadata": {},
   "cell_type": "code",
   "outputs": [],
   "execution_count": null,
   "source": [
    "frame2[\"debt\"] = np.arange(6.)\n",
    "frame2"
   ],
   "id": "11b36221ce764abc"
  },
  {
   "metadata": {},
   "cell_type": "code",
   "outputs": [],
   "execution_count": null,
   "source": [
    "val = pd.Series([-1.2, -1.5, -1.7], index=[2, 4, 5])\n",
    "frame2[\"debt\"] = val\n",
    "frame2"
   ],
   "id": "46f1fc70b7d50942"
  },
  {
   "metadata": {},
   "cell_type": "code",
   "outputs": [],
   "execution_count": null,
   "source": [
    "frame2[\"eastern\"] = frame2[\"state\"] == \"Ohio\"\n",
    "frame2"
   ],
   "id": "23449d0a96fdc31d"
  },
  {
   "metadata": {},
   "cell_type": "code",
   "outputs": [],
   "execution_count": null,
   "source": [
    "del frame2[\"eastern\"]\n",
    "frame2.columns"
   ],
   "id": "fdcd532f9dc3b802"
  },
  {
   "metadata": {},
   "cell_type": "markdown",
   "source": "Nested dictionary",
   "id": "d891f3246d2470aa"
  },
  {
   "metadata": {},
   "cell_type": "code",
   "outputs": [],
   "execution_count": null,
   "source": [
    "populations = {\"Ohio\": {2000: 1.5, 2001: 1.7, 2002: 3.6},\n",
    "               \"Nevada\": {2001: 2.4, 2002: 2.9}}\n",
    "frame3 = pd.DataFrame(populations)\n",
    "frame3"
   ],
   "id": "2fe06b4b64f0d92f"
  },
  {
   "metadata": {},
   "cell_type": "code",
   "outputs": [],
   "execution_count": null,
   "source": "frame3.T",
   "id": "7d98f6929291a714"
  },
  {
   "metadata": {},
   "cell_type": "markdown",
   "source": "If you transpose twice, it changes the data type",
   "id": "5635c55c2aa3c6c3"
  },
  {
   "metadata": {},
   "cell_type": "code",
   "outputs": [],
   "execution_count": null,
   "source": "populations",
   "id": "106279bfcadfc698"
  },
  {
   "metadata": {},
   "cell_type": "code",
   "outputs": [],
   "execution_count": null,
   "source": "pd.DataFrame(populations, index=[2001, 2002, 2003])  # Use index in the inner dictionary",
   "id": "d9a7e9c615611523"
  },
  {
   "metadata": {},
   "cell_type": "code",
   "outputs": [],
   "execution_count": null,
   "source": "frame3",
   "id": "7a2e410eaa644571"
  },
  {
   "metadata": {},
   "cell_type": "markdown",
   "source": "Slicing: [start:stop:step]",
   "id": "3af1fa80547fc3bc"
  },
  {
   "metadata": {},
   "cell_type": "code",
   "outputs": [],
   "execution_count": null,
   "source": [
    "pdata = {\"Ohio\": frame3[\"Ohio\"][:-1], \"Nevada\": frame3[\"Nevada\"][:2]}\n",
    "pd.DataFrame(pdata)"
   ],
   "id": "3e3803e870a8a7d4"
  },
  {
   "metadata": {},
   "cell_type": "markdown",
   "source": "**DataFrame input**",
   "id": "d58d109b1ff387f0"
  },
  {
   "metadata": {},
   "cell_type": "code",
   "outputs": [],
   "execution_count": null,
   "source": [
    "# 1.2D ndarray\n",
    "data = np.array([[1, 2], [3, 4]])\n",
    "df1 = pd.DataFrame(data, index=[\"X\", \"Y\"], columns=[\"A\", \"B\"])\n",
    "df1"
   ],
   "id": "c28c33fc2868fcb9"
  },
  {
   "metadata": {},
   "cell_type": "code",
   "outputs": [],
   "execution_count": null,
   "source": [
    "# 2.Dictionary of arrays,lists or tuples\n",
    "data = {\"A\": [1, 2, 3], \"B\": [4, 5, 6]}\n",
    "df3 = pd.DataFrame(data)\n",
    "df3"
   ],
   "id": "5f3b454ee5c4975e"
  },
  {
   "metadata": {},
   "cell_type": "code",
   "outputs": [],
   "execution_count": null,
   "source": [
    "# 3. NumPy structured/record array\n",
    "data = np.array([(1, 'a'), (2, 'b')], dtype=[('num', 'i4'), ('letter', 'U1')])\n",
    "df4 = pd.DataFrame(data)\n",
    "df4"
   ],
   "id": "30ef34217c0ae398"
  },
  {
   "metadata": {},
   "cell_type": "code",
   "outputs": [],
   "execution_count": null,
   "source": [
    "# 4.Dictionary of Series\n",
    "s1 = pd.Series([1, 2], index=['a', 'b'])\n",
    "s2 = pd.Series([3, 4], index=['b', 'c'])\n",
    "df5 = pd.DataFrame({'A': s1, 'B': s2})\n",
    "df5"
   ],
   "id": "7a37391b878e635"
  },
  {
   "metadata": {},
   "cell_type": "code",
   "outputs": [],
   "execution_count": null,
   "source": [
    "# 5.Dictionary of dictionaries\n",
    "data = {'Ohio': {2001: 1.7, 2002: 3.6}, 'Nevada': {2001: 2.4}}\n",
    "pd6 = pd.DataFrame(data)\n",
    "pd6"
   ],
   "id": "905f356dca797a4f"
  },
  {
   "metadata": {},
   "cell_type": "code",
   "outputs": [],
   "execution_count": null,
   "source": [
    "# 6.List of dictionaries or Series\n",
    "data = [{'A': 1, 'B': 2}, {'A': 3, 'B': 4}]\n",
    "df7 = pd.DataFrame(data)\n",
    "df7"
   ],
   "id": "55f237bbf446063"
  },
  {
   "metadata": {},
   "cell_type": "code",
   "outputs": [],
   "execution_count": null,
   "source": [
    "# 7.List of  lists or tuples\n",
    "data = [[1, 2], [3, 4]]\n",
    "df8 = pd.DataFrame(data, columns=['A', 'B'])\n",
    "df8"
   ],
   "id": "90021af4c65866a"
  },
  {
   "metadata": {},
   "cell_type": "code",
   "outputs": [],
   "execution_count": null,
   "source": [
    "# 8.Another DataFrame\n",
    "df9_1 = pd.DataFrame({'A': [1, 2]})\n",
    "df9_2 = pd.DataFrame(df9_1)\n",
    "df9_2"
   ],
   "id": "dc48347886616ac2"
  },
  {
   "metadata": {},
   "cell_type": "code",
   "outputs": [],
   "execution_count": null,
   "source": [
    "# 9.NumPy MaskedArray  \n",
    "# Mask part into NaN\n",
    "import numpy.ma as ma\n",
    "\n",
    "data = ma.array([[1, 2], [3, 4]], mask=[[0, 1], [0, 0]])\n",
    "df10 = pd.DataFrame(data)\n",
    "df10"
   ],
   "id": "6622bd85932ee7bd"
  },
  {
   "metadata": {},
   "cell_type": "markdown",
   "source": "DataFrame's index and columns",
   "id": "556e054e427df15b"
  },
  {
   "metadata": {},
   "cell_type": "code",
   "outputs": [],
   "execution_count": null,
   "source": "frame3",
   "id": "918d93899344f15"
  },
  {
   "metadata": {},
   "cell_type": "code",
   "outputs": [],
   "execution_count": null,
   "source": [
    "frame3.index.name = \"year\"\n",
    "frame3.columns.name = \"state\"\n",
    "frame3"
   ],
   "id": "7ade65812ed6504e"
  },
  {
   "metadata": {},
   "cell_type": "code",
   "outputs": [],
   "execution_count": null,
   "source": "frame3.to_numpy()",
   "id": "f2b6794204cad115"
  },
  {
   "metadata": {},
   "cell_type": "code",
   "outputs": [],
   "execution_count": null,
   "source": "frame2",
   "id": "512aa718b87d9224"
  },
  {
   "metadata": {},
   "cell_type": "code",
   "outputs": [],
   "execution_count": null,
   "source": "frame2.to_numpy()  # Returns a data type compatible with all columns",
   "id": "3c8ad34534ae0ac3"
  },
  {
   "metadata": {},
   "cell_type": "markdown",
   "source": "# Index Objects",
   "id": "7fbc288ddabcd7f9"
  },
  {
   "metadata": {},
   "cell_type": "code",
   "outputs": [],
   "execution_count": null,
   "source": [
    "obj = pd.Series(np.arange(3), index=[\"a\", \"b\", \"c\"])\n",
    "index = obj.index\n",
    "index"
   ],
   "id": "d26c2754bc75c30e"
  },
  {
   "metadata": {},
   "cell_type": "code",
   "outputs": [],
   "execution_count": null,
   "source": "index[1:]",
   "id": "9a8881f8b1bb58e2"
  },
  {
   "metadata": {},
   "cell_type": "code",
   "outputs": [],
   "execution_count": null,
   "source": "index[1] = \"d\"  # Index objects are immutable and thus can't be modified by the user",
   "id": "cad3b6fdc5e31688"
  },
  {
   "metadata": {},
   "cell_type": "code",
   "outputs": [],
   "execution_count": null,
   "source": "frame3",
   "id": "cd9f651462e2150b"
  },
  {
   "metadata": {},
   "cell_type": "code",
   "outputs": [],
   "execution_count": null,
   "source": "frame3.columns",
   "id": "6a3921c5072c9263"
  },
  {
   "metadata": {},
   "cell_type": "code",
   "outputs": [],
   "execution_count": null,
   "source": "\"Ohio\" in frame3.columns",
   "id": "af64e20b3c487d3b"
  },
  {
   "metadata": {},
   "cell_type": "code",
   "outputs": [],
   "execution_count": null,
   "source": "2003 in frame3.index",
   "id": "6613bcab214e2152"
  },
  {
   "metadata": {},
   "cell_type": "markdown",
   "source": "A pandas index can contain duplicate labels",
   "id": "3453513d5f839b3e"
  },
  {
   "metadata": {},
   "cell_type": "code",
   "outputs": [],
   "execution_count": null,
   "source": "pd.Index([\"foo\", \"foo\", \"bar\", \"bar\"])",
   "id": "9111a856e7e7c9f2"
  },
  {
   "metadata": {},
   "cell_type": "markdown",
   "source": "Selections with duplicate labels will select all occurrences of that label",
   "id": "615e5d1c9660192"
  },
  {
   "metadata": {},
   "cell_type": "markdown",
   "source": [
    "Index Methods and Properties\n",
    "**append()**: Add another Index (e.g., [1, 2] + [3, 4] = [1, 2, 3, 4]).\n",
    "**difference()**: What’s in this but not that (e.g., [1, 2] - [2, 3] = [1]).\n",
    "**intersection()**: Common parts (e.g., [1, 2] & [2, 3] = [2]).\n",
    "**union()**: Combine all (e.g., [1, 2] | [2, 3] = [1, 2, 3]).\n",
    "**isin()**: Check if in list (e.g., [1, 2].isin([2]) = [False, True]).\n",
    "**drop()**: Remove value (e.g., drop 2 from [1, 2, 3] = [1, 3])."
   ],
   "id": "16e6524a7693f4ee"
  },
  {
   "metadata": {},
   "cell_type": "markdown",
   "source": "# Essential functionality",
   "id": "905f592bfd2ed303"
  },
  {
   "metadata": {},
   "cell_type": "code",
   "outputs": [],
   "execution_count": null,
   "source": [
    "obj = pd.Series([4.5, 7.2, -5.3, 3.6], index=[\"d\", \"b\", \"a\", \"c\"])\n",
    "obj"
   ],
   "id": "2ae795dfb223f50f"
  },
  {
   "metadata": {},
   "cell_type": "code",
   "outputs": [],
   "execution_count": null,
   "source": [
    "obj2 = obj.reindex([\"a\", \"b\", \"c\", \"d\", \"e\"])\n",
    "obj2"
   ],
   "id": "6bfea8438b0b5f3"
  },
  {
   "metadata": {},
   "cell_type": "code",
   "outputs": [],
   "execution_count": null,
   "source": [
    "obj3 = pd.Series([\"blue\", \"purple\", \"yellow\"], index=[0, 2, 4])\n",
    "obj3"
   ],
   "id": "9befac54f9d0bdc9"
  },
  {
   "metadata": {},
   "cell_type": "code",
   "outputs": [],
   "execution_count": null,
   "source": "obj3.reindex(np.arange(6), method='ffill')  # ffill:forward-fills the value",
   "id": "730f6657dac3e673"
  },
  {
   "metadata": {},
   "cell_type": "code",
   "outputs": [],
   "execution_count": null,
   "source": [
    "frame = pd.DataFrame(np.arange(9).reshape((3, 3)), index=[\"a\", \"c\", \"d\"], columns=[\"Ohio\", \"Texas\", \"California\"])\n",
    "frame"
   ],
   "id": "e32dbac6b8b736c8"
  },
  {
   "metadata": {},
   "cell_type": "code",
   "outputs": [],
   "execution_count": null,
   "source": [
    "frame2 = frame.reindex(index=[\"a\", \"b\", \"c\", \"d\"])\n",
    "frame2"
   ],
   "id": "6f8b7b1007390bd"
  },
  {
   "metadata": {},
   "cell_type": "code",
   "outputs": [],
   "execution_count": null,
   "source": [
    "states = [\"Texas\", \"Utah\", \"California\"]\n",
    "frame.reindex(columns=states)"
   ],
   "id": "6b9a372fdbf72ca7"
  },
  {
   "metadata": {},
   "cell_type": "code",
   "outputs": [],
   "execution_count": null,
   "source": "frame.reindex(states, axis=\"columns\")",
   "id": "b2eafb2368db5697"
  },
  {
   "metadata": {},
   "cell_type": "markdown",
   "source": [
    "**labels/index**: New row labels (e.g., ['a', 'c']).\n",
    "**columns**: New column labels (e.g., ['A', 'B']).\n",
    "**method**: Fill missing (ffill=forward, bfill=backward).\n",
    "**fill_value**: What to fill (e.g., 0 instead of NaN)."
   ],
   "id": "5a5ad0d367c100db"
  },
  {
   "metadata": {},
   "cell_type": "code",
   "outputs": [],
   "execution_count": null,
   "source": "frame",
   "id": "96656bda0e4fef05"
  },
  {
   "metadata": {},
   "cell_type": "code",
   "outputs": [],
   "execution_count": null,
   "source": "frame.loc[[\"a\", \"d\", \"c\"], [\"California\", \"Texas\"]]",
   "id": "84fdc40dc0637f55"
  },
  {
   "metadata": {},
   "cell_type": "markdown",
   "source": "# Dropping Entries from an Axis",
   "id": "2a8ddd80ac8e3861"
  },
  {
   "metadata": {},
   "cell_type": "code",
   "outputs": [],
   "execution_count": null,
   "source": [
    "obj = pd.Series(np.arange(5.), index=[\"a\", \"b\", \"c\", \"d\", \"e\"])\n",
    "obj"
   ],
   "id": "b0bdfc02100fe938"
  },
  {
   "metadata": {},
   "cell_type": "code",
   "outputs": [],
   "execution_count": null,
   "source": [
    "new_obj = obj.drop(\"c\")\n",
    "new_obj"
   ],
   "id": "ef2e7f147ad3c012"
  },
  {
   "metadata": {},
   "cell_type": "code",
   "outputs": [],
   "execution_count": null,
   "source": [
    "data = pd.DataFrame(np.arange(16).reshape((4, 4)),\n",
    "                    index=[\"Ohio\", \"Colorado\", \"Utah\", \"New York\"],\n",
    "                    columns=[\"one\", \"two\", \"three\", \"four\"])"
   ],
   "id": "bcc51ac74500f083"
  },
  {
   "metadata": {},
   "cell_type": "code",
   "outputs": [],
   "execution_count": null,
   "source": "data.drop(index=[\"Colorado\", \"Ohio\"])",
   "id": "114a845db9f82eda"
  },
  {
   "metadata": {},
   "cell_type": "code",
   "outputs": [],
   "execution_count": null,
   "source": "data.drop(columns=[\"two\"])",
   "id": "ed3cb7e3f1e4cd69"
  },
  {
   "metadata": {},
   "cell_type": "markdown",
   "source": "axis=1 equal axis=\"columns\"",
   "id": "4ce496f8f0bc732f"
  },
  {
   "metadata": {},
   "cell_type": "code",
   "outputs": [],
   "execution_count": null,
   "source": "data.drop(\"two\", axis=1)",
   "id": "7b1ba244f50a2e4e"
  },
  {
   "metadata": {},
   "cell_type": "code",
   "outputs": [],
   "execution_count": null,
   "source": "data.drop([\"two\", \"four\"], axis=\"columns\")",
   "id": "c3a6664a68abf31c"
  },
  {
   "metadata": {},
   "cell_type": "markdown",
   "source": "# Indexing,Selection,and Filtering",
   "id": "7caa6c9bb929185e"
  },
  {
   "metadata": {},
   "cell_type": "code",
   "outputs": [],
   "execution_count": null,
   "source": "obj.loc[[\"b\", \"a\", \"d\"]]",
   "id": "6215c5fa94213cb2"
  },
  {
   "metadata": {},
   "cell_type": "markdown",
   "source": [
    "[]（方括号索引）\n",
    "行为：如果索引是整数，优先按标签取；如果索引是默认整数，则按位置取。\n",
    "\n",
    ".loc\n",
    "行为：永远按标签取，跟位置无关。\n",
    "\n",
    ".iloc\n",
    "行为：永远按位置取，跟标签无关。"
   ],
   "id": "ff2f9c5572227289"
  },
  {
   "metadata": {},
   "cell_type": "code",
   "outputs": [],
   "execution_count": null,
   "source": [
    "obj1 = pd.Series([1, 2, 3], index=[2, 0, 1])\n",
    "obj2 = pd.Series([1, 2, 3], index=[\"a\", \"b\", \"c\"])"
   ],
   "id": "3705a4cdcc6de856"
  },
  {
   "metadata": {},
   "cell_type": "code",
   "outputs": [],
   "execution_count": null,
   "source": "obj1",
   "id": "3d385b8b4e83359a"
  },
  {
   "metadata": {},
   "cell_type": "code",
   "outputs": [],
   "execution_count": null,
   "source": "obj2",
   "id": "ab6babc82854b791"
  },
  {
   "metadata": {},
   "cell_type": "code",
   "outputs": [],
   "execution_count": null,
   "source": "obj1[[0, 1, 2]]",
   "id": "43ebb9f729f8d975"
  },
  {
   "metadata": {},
   "cell_type": "code",
   "outputs": [],
   "execution_count": null,
   "source": "obj2[[0, 1, 2]]",
   "id": "c15e8770cd78aa33"
  },
  {
   "metadata": {},
   "cell_type": "code",
   "outputs": [],
   "execution_count": null,
   "source": "obj2.loc[[0, 1]]",
   "id": "2771580b1602ded7"
  },
  {
   "metadata": {},
   "cell_type": "code",
   "outputs": [],
   "execution_count": null,
   "source": "obj1.iloc[[0, 1, 2]]",
   "id": "4df30dbf3a71ad50"
  },
  {
   "metadata": {},
   "cell_type": "code",
   "outputs": [],
   "execution_count": null,
   "source": "obj2.iloc[[0, 1, 2]]",
   "id": "820750ae3a93db30"
  },
  {
   "metadata": {},
   "cell_type": "markdown",
   "source": "**Note**:You can also slice with labels, but it works differently from normal Python slicing in that the endpoint is **inclusive**",
   "id": "5960726c110f103a"
  },
  {
   "metadata": {},
   "cell_type": "code",
   "outputs": [],
   "execution_count": null,
   "source": "obj2.loc[\"b\":\"c\"]",
   "id": "1a3281df72a005d1"
  },
  {
   "metadata": {},
   "cell_type": "code",
   "outputs": [],
   "execution_count": null,
   "source": [
    "obj2.loc[\"b\":\"c\"] = 5\n",
    "obj2"
   ],
   "id": "f52470f390e911d"
  },
  {
   "metadata": {},
   "cell_type": "markdown",
   "source": [
    "用data[column_name]（传入列名）时，Pandas会返回对应的列。\n",
    "用data[start:stop]（切片语法）时，Pandas会按行（row）切片，返回指定范围的行。"
   ],
   "id": "aa97de87bbd0b64"
  },
  {
   "metadata": {},
   "cell_type": "code",
   "outputs": [],
   "execution_count": null,
   "source": [
    "data = pd.DataFrame(np.arange(16).reshape((4, 4)),\n",
    "                    index=[\"Ohio\", \"Colorado\", \"Utah\", \"New York\"],\n",
    "                    columns=[\"one\", \"two\", \"three\", \"four\"])\n",
    "data"
   ],
   "id": "9236785b852f8ff2"
  },
  {
   "metadata": {},
   "cell_type": "code",
   "outputs": [],
   "execution_count": null,
   "source": "data[\"two\"]",
   "id": "93c215881c18d539"
  },
  {
   "metadata": {},
   "cell_type": "code",
   "outputs": [],
   "execution_count": null,
   "source": "data[[\"three\", \"one\"]]",
   "id": "81623385a4a38ada"
  },
  {
   "metadata": {},
   "cell_type": "code",
   "outputs": [],
   "execution_count": null,
   "source": "data[:2]",
   "id": "5d4d881414ce506e"
  },
  {
   "metadata": {},
   "cell_type": "code",
   "outputs": [],
   "execution_count": null,
   "source": "data[data[\"three\"] > 5]",
   "id": "16216bd7a072b2cd"
  },
  {
   "metadata": {},
   "cell_type": "code",
   "outputs": [],
   "execution_count": null,
   "source": "data < 5",
   "id": "232c552e433036da"
  },
  {
   "metadata": {},
   "cell_type": "code",
   "outputs": [],
   "execution_count": null,
   "source": [
    "data[data < 5] = 0\n",
    "data"
   ],
   "id": "d6902d0da2dc3b81"
  },
  {
   "metadata": {},
   "cell_type": "code",
   "outputs": [],
   "execution_count": null,
   "source": "data",
   "id": "fca3ea7e75bc27f"
  },
  {
   "metadata": {},
   "cell_type": "code",
   "outputs": [],
   "execution_count": null,
   "source": "data.loc[\"Colorado\"]",
   "id": "c10b2a177b92a27b"
  },
  {
   "metadata": {},
   "cell_type": "code",
   "outputs": [],
   "execution_count": null,
   "source": "data.loc[[\"Colorado\",\"New York\"]]",
   "id": "4165cd5815881535"
  },
  {
   "metadata": {},
   "cell_type": "code",
   "outputs": [],
   "execution_count": null,
   "source": "data.loc[\"Colorado\",[\"two\",\"three\"]]",
   "id": "20f8176ba4b3b3a3"
  },
  {
   "metadata": {},
   "cell_type": "code",
   "outputs": [],
   "execution_count": null,
   "source": "data",
   "id": "fa1bb6e91d45c931"
  },
  {
   "metadata": {},
   "cell_type": "code",
   "outputs": [],
   "execution_count": null,
   "source": "data.iloc[2]",
   "id": "4b5484f70f631eb1"
  },
  {
   "metadata": {},
   "cell_type": "code",
   "outputs": [],
   "execution_count": null,
   "source": "data.iloc[[2,1]]",
   "id": "514ecd728c871488"
  },
  {
   "metadata": {},
   "cell_type": "code",
   "outputs": [],
   "execution_count": null,
   "source": "data.iloc[2,[3,0,1]]",
   "id": "36f7038e125abb36"
  },
  {
   "metadata": {},
   "cell_type": "code",
   "outputs": [],
   "execution_count": null,
   "source": "data.iloc[[1,2],[3,0,1]]",
   "id": "eea7f71797283097"
  },
  {
   "metadata": {},
   "cell_type": "code",
   "outputs": [],
   "execution_count": null,
   "source": "data.loc[:\"Utah\",\"two\"]",
   "id": "cc6f10600a44f29e"
  },
  {
   "metadata": {},
   "cell_type": "code",
   "outputs": [],
   "execution_count": null,
   "source": "data.iloc[:,:3][data.three>5]",
   "id": "49c7b7782406d1ec"
  },
  {
   "metadata": {},
   "cell_type": "code",
   "outputs": [],
   "execution_count": null,
   "source": "data.loc[data.three>=2]",
   "id": "368ec7cf37b9043d"
  },
  {
   "metadata": {},
   "cell_type": "code",
   "outputs": [],
   "execution_count": null,
   "source": "",
   "id": "d1b24c8e136f4cb3"
  }
 ],
 "metadata": {
  "kernelspec": {
   "display_name": "Python 3",
   "language": "python",
   "name": "python3"
  },
  "language_info": {
   "codemirror_mode": {
    "name": "ipython",
    "version": 2
   },
   "file_extension": ".py",
   "mimetype": "text/x-python",
   "name": "python",
   "nbconvert_exporter": "python",
   "pygments_lexer": "ipython2",
   "version": "2.7.6"
  }
 },
 "nbformat": 4,
 "nbformat_minor": 5
}
